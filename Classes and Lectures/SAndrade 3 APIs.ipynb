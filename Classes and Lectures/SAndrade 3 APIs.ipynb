{
 "cells": [
  {
   "cell_type": "markdown",
   "id": "coated-diving",
   "metadata": {
    "slideshow": {
     "slide_type": "slide"
    }
   },
   "source": [
    "# Application programming interfaces: APIs"
   ]
  },
  {
   "cell_type": "markdown",
   "id": "familiar-professor",
   "metadata": {
    "slideshow": {
     "slide_type": "fragment"
    }
   },
   "source": [
    "## Lecture objectives\n",
    "\n",
    "1. Understand different ways to access data via an API\n",
    "2. Introduce the `requests` library \n",
    "3. Learn how to parse JSON data"
   ]
  },
  {
   "cell_type": "markdown",
   "id": "lesbian-infection",
   "metadata": {
    "slideshow": {
     "slide_type": "fragment"
    }
   },
   "source": [
    "One way to get data is to download it manually from a website. You might click through a series of links and then save a `.csv` or similar file to your hard drive.\n",
    "\n",
    "Another way is through an Application Programming Interface (API). These APIs make it possible to request just the data that you are interested in. Sometimes, this data is static—it will be the same each time you request it. The U.S. Census is a good example. Other APIs are dynamic—for example, bus and train arrival times."
   ]
  },
  {
   "cell_type": "markdown",
   "id": "parallel-stephen",
   "metadata": {
    "slideshow": {
     "slide_type": "slide"
    }
   },
   "source": [
    "## Example: BART\n",
    "Many APIs return a format known as JSON. While it seems complicated, it's relatively easy to work with because it's highly structured.\n",
    "\n",
    "BART provides its [API documentation here](https://api.bart.gov/docs/overview/index.aspx).\n",
    "\n",
    "How do we get data from the API into Python? The `requests` library is the key to unlocking many interactions with the web.\n",
    "\n",
    "Let's get the real-time departures from 12th St Oakland City Center station. According to the [documentation](https://api.bart.gov/docs/etd/etd.aspx), we need to pass `orig=12TH`. We can also pass `json=y` to return the results in JSON format.\n",
    "\n",
    "Most APIs, including that of BART, require a \"key\" that identifies you to the developer. For serious usage, you'd request your own key. But for experimentation, BART provides a key that anyone can use. \n",
    "\n",
    "So how do we construct the request? We simply build a string that contains all of these commands, following the example in the documentation. Then we pass that string to `requests.get()`."
   ]
  },
  {
   "cell_type": "code",
   "execution_count": 1,
   "id": "color-keeping",
   "metadata": {
    "slideshow": {
     "slide_type": "fragment"
    }
   },
   "outputs": [],
   "source": [
    "import requests\n",
    "\n",
    "APIkey = 'MW9S-E7SL-26DU-VV8V'  # the key posted on BART's website\n",
    "requestString = 'http://api.bart.gov/api/etd.aspx?cmd=etd&orig=12TH&json=y&key='+APIkey\n",
    "\n",
    "r = requests.get(requestString)"
   ]
  },
  {
   "cell_type": "markdown",
   "id": "manual-driving",
   "metadata": {
    "slideshow": {
     "slide_type": "fragment"
    }
   },
   "source": [
    "Here, we've made a request to the BART API, and stored the response in the `r` object. \n",
    "\n",
    "Let's see what the `r` object includes. Use `r.` and the `tab` autocomplete in Jupyter Notebook to see the different attributes. Or you can call the help function."
   ]
  },
  {
   "cell_type": "code",
   "execution_count": 2,
   "id": "f4973bf6",
   "metadata": {},
   "outputs": [
    {
     "name": "stdout",
     "output_type": "stream",
     "text": [
      "Help on Response in module requests.models object:\n",
      "\n",
      "class Response(builtins.object)\n",
      " |  The :class:`Response <Response>` object, which contains a\n",
      " |  server's response to an HTTP request.\n",
      " |  \n",
      " |  Methods defined here:\n",
      " |  \n",
      " |  __bool__(self)\n",
      " |      Returns True if :attr:`status_code` is less than 400.\n",
      " |      \n",
      " |      This attribute checks if the status code of the response is between\n",
      " |      400 and 600 to see if there was a client error or a server error. If\n",
      " |      the status code, is between 200 and 400, this will return True. This\n",
      " |      is **not** a check to see if the response code is ``200 OK``.\n",
      " |  \n",
      " |  __enter__(self)\n",
      " |  \n",
      " |  __exit__(self, *args)\n",
      " |  \n",
      " |  __getstate__(self)\n",
      " |  \n",
      " |  __init__(self)\n",
      " |      Initialize self.  See help(type(self)) for accurate signature.\n",
      " |  \n",
      " |  __iter__(self)\n",
      " |      Allows you to use a response as an iterator.\n",
      " |  \n",
      " |  __nonzero__(self)\n",
      " |      Returns True if :attr:`status_code` is less than 400.\n",
      " |      \n",
      " |      This attribute checks if the status code of the response is between\n",
      " |      400 and 600 to see if there was a client error or a server error. If\n",
      " |      the status code, is between 200 and 400, this will return True. This\n",
      " |      is **not** a check to see if the response code is ``200 OK``.\n",
      " |  \n",
      " |  __repr__(self)\n",
      " |      Return repr(self).\n",
      " |  \n",
      " |  __setstate__(self, state)\n",
      " |  \n",
      " |  close(self)\n",
      " |      Releases the connection back to the pool. Once this method has been\n",
      " |      called the underlying ``raw`` object must not be accessed again.\n",
      " |      \n",
      " |      *Note: Should not normally need to be called explicitly.*\n",
      " |  \n",
      " |  iter_content(self, chunk_size=1, decode_unicode=False)\n",
      " |      Iterates over the response data.  When stream=True is set on the\n",
      " |      request, this avoids reading the content at once into memory for\n",
      " |      large responses.  The chunk size is the number of bytes it should\n",
      " |      read into memory.  This is not necessarily the length of each item\n",
      " |      returned as decoding can take place.\n",
      " |      \n",
      " |      chunk_size must be of type int or None. A value of None will\n",
      " |      function differently depending on the value of `stream`.\n",
      " |      stream=True will read data as it arrives in whatever size the\n",
      " |      chunks are received. If stream=False, data is returned as\n",
      " |      a single chunk.\n",
      " |      \n",
      " |      If decode_unicode is True, content will be decoded using the best\n",
      " |      available encoding based on the response.\n",
      " |  \n",
      " |  iter_lines(self, chunk_size=512, decode_unicode=False, delimiter=None)\n",
      " |      Iterates over the response data, one line at a time.  When\n",
      " |      stream=True is set on the request, this avoids reading the\n",
      " |      content at once into memory for large responses.\n",
      " |      \n",
      " |      .. note:: This method is not reentrant safe.\n",
      " |  \n",
      " |  json(self, **kwargs)\n",
      " |      Returns the json-encoded content of a response, if any.\n",
      " |      \n",
      " |      :param \\*\\*kwargs: Optional arguments that ``json.loads`` takes.\n",
      " |      :raises requests.exceptions.JSONDecodeError: If the response body does not\n",
      " |          contain valid json.\n",
      " |  \n",
      " |  raise_for_status(self)\n",
      " |      Raises :class:`HTTPError`, if one occurred.\n",
      " |  \n",
      " |  ----------------------------------------------------------------------\n",
      " |  Readonly properties defined here:\n",
      " |  \n",
      " |  apparent_encoding\n",
      " |      The apparent encoding, provided by the charset_normalizer or chardet libraries.\n",
      " |  \n",
      " |  content\n",
      " |      Content of the response, in bytes.\n",
      " |  \n",
      " |  is_permanent_redirect\n",
      " |      True if this Response one of the permanent versions of redirect.\n",
      " |  \n",
      " |  is_redirect\n",
      " |      True if this Response is a well-formed HTTP redirect that could have\n",
      " |      been processed automatically (by :meth:`Session.resolve_redirects`).\n",
      " |  \n",
      " |  links\n",
      " |      Returns the parsed header links of the response, if any.\n",
      " |  \n",
      " |  next\n",
      " |      Returns a PreparedRequest for the next request in a redirect chain, if there is one.\n",
      " |  \n",
      " |  ok\n",
      " |      Returns True if :attr:`status_code` is less than 400, False if not.\n",
      " |      \n",
      " |      This attribute checks if the status code of the response is between\n",
      " |      400 and 600 to see if there was a client error or a server error. If\n",
      " |      the status code is between 200 and 400, this will return True. This\n",
      " |      is **not** a check to see if the response code is ``200 OK``.\n",
      " |  \n",
      " |  text\n",
      " |      Content of the response, in unicode.\n",
      " |      \n",
      " |      If Response.encoding is None, encoding will be guessed using\n",
      " |      ``charset_normalizer`` or ``chardet``.\n",
      " |      \n",
      " |      The encoding of the response content is determined based solely on HTTP\n",
      " |      headers, following RFC 2616 to the letter. If you can take advantage of\n",
      " |      non-HTTP knowledge to make a better guess at the encoding, you should\n",
      " |      set ``r.encoding`` appropriately before accessing this property.\n",
      " |  \n",
      " |  ----------------------------------------------------------------------\n",
      " |  Data descriptors defined here:\n",
      " |  \n",
      " |  __dict__\n",
      " |      dictionary for instance variables (if defined)\n",
      " |  \n",
      " |  __weakref__\n",
      " |      list of weak references to the object (if defined)\n",
      " |  \n",
      " |  ----------------------------------------------------------------------\n",
      " |  Data and other attributes defined here:\n",
      " |  \n",
      " |  __attrs__ = ['_content', 'status_code', 'headers', 'url', 'history', '...\n",
      "\n"
     ]
    }
   ],
   "source": [
    "help(r)"
   ]
  },
  {
   "cell_type": "markdown",
   "id": "875801a5",
   "metadata": {},
   "source": [
    "One attribute is `ok`: did the request succeed?"
   ]
  },
  {
   "cell_type": "code",
   "execution_count": 3,
   "id": "unexpected-sensitivity",
   "metadata": {},
   "outputs": [
    {
     "name": "stdout",
     "output_type": "stream",
     "text": [
      "True\n"
     ]
    }
   ],
   "source": [
    "print(r.ok)"
   ]
  },
  {
   "cell_type": "markdown",
   "id": "0583cb59",
   "metadata": {},
   "source": [
    "The `text` attribute shows the text that was returned."
   ]
  },
  {
   "cell_type": "code",
   "execution_count": 4,
   "id": "equivalent-southwest",
   "metadata": {},
   "outputs": [
    {
     "name": "stdout",
     "output_type": "stream",
     "text": [
      "{\"?xml\":{\"@version\":\"1.0\",\"@encoding\":\"utf-8\"},\"root\":{\"@id\":\"1\",\"uri\":{\"#cdata-section\":\"http://api.bart.gov/api/etd.aspx?cmd=etd&orig=12TH&json=y\"},\"date\":\"04/08/2022\",\"time\":\"01:42:41 PM PDT\",\"station\":[{\"name\":\"12th St. Oakland City Center\",\"abbr\":\"12TH\",\"etd\":[{\"destination\":\"Antioch\",\"abbreviation\":\"ANTC\",\"limited\":\"0\",\"estimate\":[{\"minutes\":\"13\",\"platform\":\"3\",\"direction\":\"North\",\"length\":\"9\",\"color\":\"YELLOW\",\"hexcolor\":\"#ffff33\",\"bikeflag\":\"1\",\"delay\":\"0\"},{\"minutes\":\"28\",\"platform\":\"3\",\"direction\":\"North\",\"length\":\"10\",\"color\":\"YELLOW\",\"hexcolor\":\"#ffff33\",\"bikeflag\":\"1\",\"delay\":\"0\"},{\"minutes\":\"43\",\"platform\":\"3\",\"direction\":\"North\",\"length\":\"10\",\"color\":\"YELLOW\",\"hexcolor\":\"#ffff33\",\"bikeflag\":\"1\",\"delay\":\"0\"}]},{\"destination\":\"Berryessa\",\"abbreviation\":\"BERY\",\"limited\":\"0\",\"estimate\":[{\"minutes\":\"3\",\"platform\":\"2\",\"direction\":\"South\",\"length\":\"5\",\"color\":\"ORANGE\",\"hexcolor\":\"#ff9933\",\"bikeflag\":\"1\",\"delay\":\"61\"},{\"minutes\":\"18\",\"platform\":\"2\",\"direction\":\"South\",\"length\":\"5\",\"color\":\"ORANGE\",\"hexcolor\":\"#ff9933\",\"bikeflag\":\"1\",\"delay\":\"0\"},{\"minutes\":\"33\",\"platform\":\"2\",\"direction\":\"South\",\"length\":\"5\",\"color\":\"ORANGE\",\"hexcolor\":\"#ff9933\",\"bikeflag\":\"1\",\"delay\":\"0\"}]},{\"destination\":\"Millbrae/SFO\",\"abbreviation\":\"SFIA\",\"limited\":\"0\",\"estimate\":[{\"minutes\":\"9\",\"platform\":\"2\",\"direction\":\"South\",\"length\":\"5\",\"color\":\"RED\",\"hexcolor\":\"#ff0000\",\"bikeflag\":\"1\",\"delay\":\"0\"},{\"minutes\":\"24\",\"platform\":\"2\",\"direction\":\"South\",\"length\":\"5\",\"color\":\"RED\",\"hexcolor\":\"#ff0000\",\"bikeflag\":\"1\",\"delay\":\"0\"},{\"minutes\":\"39\",\"platform\":\"2\",\"direction\":\"South\",\"length\":\"5\",\"color\":\"RED\",\"hexcolor\":\"#ff0000\",\"bikeflag\":\"1\",\"delay\":\"0\"}]},{\"destination\":\"Richmond\",\"abbreviation\":\"RICH\",\"limited\":\"0\",\"estimate\":[{\"minutes\":\"3\",\"platform\":\"1\",\"direction\":\"North\",\"length\":\"5\",\"color\":\"RED\",\"hexcolor\":\"#ff0000\",\"bikeflag\":\"1\",\"delay\":\"0\"},{\"minutes\":\"13\",\"platform\":\"1\",\"direction\":\"North\",\"length\":\"5\",\"color\":\"ORANGE\",\"hexcolor\":\"#ff9933\",\"bikeflag\":\"1\",\"delay\":\"0\"},{\"minutes\":\"18\",\"platform\":\"1\",\"direction\":\"North\",\"length\":\"5\",\"color\":\"RED\",\"hexcolor\":\"#ff0000\",\"bikeflag\":\"1\",\"delay\":\"0\"}]},{\"destination\":\"SF Airport\",\"abbreviation\":\"SFIA\",\"limited\":\"0\",\"estimate\":[{\"minutes\":\"3\",\"platform\":\"2\",\"direction\":\"South\",\"length\":\"10\",\"color\":\"YELLOW\",\"hexcolor\":\"#ffff33\",\"bikeflag\":\"1\",\"delay\":\"169\"},{\"minutes\":\"15\",\"platform\":\"2\",\"direction\":\"South\",\"length\":\"10\",\"color\":\"YELLOW\",\"hexcolor\":\"#ffff33\",\"bikeflag\":\"1\",\"delay\":\"0\"},{\"minutes\":\"30\",\"platform\":\"2\",\"direction\":\"South\",\"length\":\"10\",\"color\":\"YELLOW\",\"hexcolor\":\"#ffff33\",\"bikeflag\":\"1\",\"delay\":\"0\"}]}]}],\"message\":\"\"}}\n"
     ]
    }
   ],
   "source": [
    "print(r.text)"
   ]
  },
  {
   "cell_type": "markdown",
   "id": "coupled-trick",
   "metadata": {},
   "source": [
    "This looks promising. But how can we get this into a more usable form? The `json` module is the key. It's built-in to Python so you don't have to install anything."
   ]
  },
  {
   "cell_type": "code",
   "execution_count": 5,
   "id": "atmospheric-smith",
   "metadata": {},
   "outputs": [],
   "source": [
    "import json"
   ]
  },
  {
   "cell_type": "code",
   "execution_count": 6,
   "id": "superior-seventh",
   "metadata": {},
   "outputs": [
    {
     "name": "stdout",
     "output_type": "stream",
     "text": [
      "<class 'dict'>\n"
     ]
    }
   ],
   "source": [
    "# json.loads() will turn the JSON object into a dictionary\n",
    "d = json.loads(r.text)\n",
    "print(type(d))"
   ]
  },
  {
   "cell_type": "code",
   "execution_count": 7,
   "id": "spiritual-pursuit",
   "metadata": {},
   "outputs": [
    {
     "name": "stdout",
     "output_type": "stream",
     "text": [
      "dict_keys(['?xml', 'root'])\n",
      "{'@id': '1', 'uri': {'#cdata-section': 'http://api.bart.gov/api/etd.aspx?cmd=etd&orig=12TH&json=y'}, 'date': '04/08/2022', 'time': '01:42:41 PM PDT', 'station': [{'name': '12th St. Oakland City Center', 'abbr': '12TH', 'etd': [{'destination': 'Antioch', 'abbreviation': 'ANTC', 'limited': '0', 'estimate': [{'minutes': '13', 'platform': '3', 'direction': 'North', 'length': '9', 'color': 'YELLOW', 'hexcolor': '#ffff33', 'bikeflag': '1', 'delay': '0'}, {'minutes': '28', 'platform': '3', 'direction': 'North', 'length': '10', 'color': 'YELLOW', 'hexcolor': '#ffff33', 'bikeflag': '1', 'delay': '0'}, {'minutes': '43', 'platform': '3', 'direction': 'North', 'length': '10', 'color': 'YELLOW', 'hexcolor': '#ffff33', 'bikeflag': '1', 'delay': '0'}]}, {'destination': 'Berryessa', 'abbreviation': 'BERY', 'limited': '0', 'estimate': [{'minutes': '3', 'platform': '2', 'direction': 'South', 'length': '5', 'color': 'ORANGE', 'hexcolor': '#ff9933', 'bikeflag': '1', 'delay': '61'}, {'minutes': '18', 'platform': '2', 'direction': 'South', 'length': '5', 'color': 'ORANGE', 'hexcolor': '#ff9933', 'bikeflag': '1', 'delay': '0'}, {'minutes': '33', 'platform': '2', 'direction': 'South', 'length': '5', 'color': 'ORANGE', 'hexcolor': '#ff9933', 'bikeflag': '1', 'delay': '0'}]}, {'destination': 'Millbrae/SFO', 'abbreviation': 'SFIA', 'limited': '0', 'estimate': [{'minutes': '9', 'platform': '2', 'direction': 'South', 'length': '5', 'color': 'RED', 'hexcolor': '#ff0000', 'bikeflag': '1', 'delay': '0'}, {'minutes': '24', 'platform': '2', 'direction': 'South', 'length': '5', 'color': 'RED', 'hexcolor': '#ff0000', 'bikeflag': '1', 'delay': '0'}, {'minutes': '39', 'platform': '2', 'direction': 'South', 'length': '5', 'color': 'RED', 'hexcolor': '#ff0000', 'bikeflag': '1', 'delay': '0'}]}, {'destination': 'Richmond', 'abbreviation': 'RICH', 'limited': '0', 'estimate': [{'minutes': '3', 'platform': '1', 'direction': 'North', 'length': '5', 'color': 'RED', 'hexcolor': '#ff0000', 'bikeflag': '1', 'delay': '0'}, {'minutes': '13', 'platform': '1', 'direction': 'North', 'length': '5', 'color': 'ORANGE', 'hexcolor': '#ff9933', 'bikeflag': '1', 'delay': '0'}, {'minutes': '18', 'platform': '1', 'direction': 'North', 'length': '5', 'color': 'RED', 'hexcolor': '#ff0000', 'bikeflag': '1', 'delay': '0'}]}, {'destination': 'SF Airport', 'abbreviation': 'SFIA', 'limited': '0', 'estimate': [{'minutes': '3', 'platform': '2', 'direction': 'South', 'length': '10', 'color': 'YELLOW', 'hexcolor': '#ffff33', 'bikeflag': '1', 'delay': '169'}, {'minutes': '15', 'platform': '2', 'direction': 'South', 'length': '10', 'color': 'YELLOW', 'hexcolor': '#ffff33', 'bikeflag': '1', 'delay': '0'}, {'minutes': '30', 'platform': '2', 'direction': 'South', 'length': '10', 'color': 'YELLOW', 'hexcolor': '#ffff33', 'bikeflag': '1', 'delay': '0'}]}]}], 'message': ''}\n"
     ]
    }
   ],
   "source": [
    "# remember, a dictionary is a collection of keys and values\n",
    "# here looks like there are two keys, called ?xml and root\n",
    "# let's look at the root item\n",
    "print(d.keys())\n",
    "print(d['root'])"
   ]
  },
  {
   "cell_type": "code",
   "execution_count": 8,
   "id": "indoor-refund",
   "metadata": {},
   "outputs": [
    {
     "name": "stdout",
     "output_type": "stream",
     "text": [
      "dict_keys(['@id', 'uri', 'date', 'time', 'station', 'message'])\n"
     ]
    }
   ],
   "source": [
    "# and in turn, 'root' is another dictionary. You could also have seen this because of the curly brackets { }  \n",
    "print((d['root'].keys()))"
   ]
  },
  {
   "cell_type": "markdown",
   "id": "protective-couple",
   "metadata": {},
   "source": [
    "The \"station\" item seems to hold most of the useful information. \n",
    "\n",
    "It's a list."
   ]
  },
  {
   "cell_type": "code",
   "execution_count": 9,
   "id": "ca4be59b",
   "metadata": {},
   "outputs": [
    {
     "name": "stdout",
     "output_type": "stream",
     "text": [
      "<class 'list'>\n"
     ]
    }
   ],
   "source": [
    "print(type((d['root']['station'])))"
   ]
  },
  {
   "cell_type": "markdown",
   "id": "2efa96c3",
   "metadata": {},
   "source": [
    "Of length 1"
   ]
  },
  {
   "cell_type": "code",
   "execution_count": 10,
   "id": "67f306ab",
   "metadata": {},
   "outputs": [
    {
     "name": "stdout",
     "output_type": "stream",
     "text": [
      "1\n"
     ]
    }
   ],
   "source": [
    "print(len(d['root']['station']))"
   ]
  },
  {
   "cell_type": "code",
   "execution_count": 11,
   "id": "d96377b5",
   "metadata": {},
   "outputs": [
    {
     "name": "stdout",
     "output_type": "stream",
     "text": [
      "{'name': '12th St. Oakland City Center', 'abbr': '12TH', 'etd': [{'destination': 'Antioch', 'abbreviation': 'ANTC', 'limited': '0', 'estimate': [{'minutes': '13', 'platform': '3', 'direction': 'North', 'length': '9', 'color': 'YELLOW', 'hexcolor': '#ffff33', 'bikeflag': '1', 'delay': '0'}, {'minutes': '28', 'platform': '3', 'direction': 'North', 'length': '10', 'color': 'YELLOW', 'hexcolor': '#ffff33', 'bikeflag': '1', 'delay': '0'}, {'minutes': '43', 'platform': '3', 'direction': 'North', 'length': '10', 'color': 'YELLOW', 'hexcolor': '#ffff33', 'bikeflag': '1', 'delay': '0'}]}, {'destination': 'Berryessa', 'abbreviation': 'BERY', 'limited': '0', 'estimate': [{'minutes': '3', 'platform': '2', 'direction': 'South', 'length': '5', 'color': 'ORANGE', 'hexcolor': '#ff9933', 'bikeflag': '1', 'delay': '61'}, {'minutes': '18', 'platform': '2', 'direction': 'South', 'length': '5', 'color': 'ORANGE', 'hexcolor': '#ff9933', 'bikeflag': '1', 'delay': '0'}, {'minutes': '33', 'platform': '2', 'direction': 'South', 'length': '5', 'color': 'ORANGE', 'hexcolor': '#ff9933', 'bikeflag': '1', 'delay': '0'}]}, {'destination': 'Millbrae/SFO', 'abbreviation': 'SFIA', 'limited': '0', 'estimate': [{'minutes': '9', 'platform': '2', 'direction': 'South', 'length': '5', 'color': 'RED', 'hexcolor': '#ff0000', 'bikeflag': '1', 'delay': '0'}, {'minutes': '24', 'platform': '2', 'direction': 'South', 'length': '5', 'color': 'RED', 'hexcolor': '#ff0000', 'bikeflag': '1', 'delay': '0'}, {'minutes': '39', 'platform': '2', 'direction': 'South', 'length': '5', 'color': 'RED', 'hexcolor': '#ff0000', 'bikeflag': '1', 'delay': '0'}]}, {'destination': 'Richmond', 'abbreviation': 'RICH', 'limited': '0', 'estimate': [{'minutes': '3', 'platform': '1', 'direction': 'North', 'length': '5', 'color': 'RED', 'hexcolor': '#ff0000', 'bikeflag': '1', 'delay': '0'}, {'minutes': '13', 'platform': '1', 'direction': 'North', 'length': '5', 'color': 'ORANGE', 'hexcolor': '#ff9933', 'bikeflag': '1', 'delay': '0'}, {'minutes': '18', 'platform': '1', 'direction': 'North', 'length': '5', 'color': 'RED', 'hexcolor': '#ff0000', 'bikeflag': '1', 'delay': '0'}]}, {'destination': 'SF Airport', 'abbreviation': 'SFIA', 'limited': '0', 'estimate': [{'minutes': '3', 'platform': '2', 'direction': 'South', 'length': '10', 'color': 'YELLOW', 'hexcolor': '#ffff33', 'bikeflag': '1', 'delay': '169'}, {'minutes': '15', 'platform': '2', 'direction': 'South', 'length': '10', 'color': 'YELLOW', 'hexcolor': '#ffff33', 'bikeflag': '1', 'delay': '0'}, {'minutes': '30', 'platform': '2', 'direction': 'South', 'length': '10', 'color': 'YELLOW', 'hexcolor': '#ffff33', 'bikeflag': '1', 'delay': '0'}]}]}\n"
     ]
    }
   ],
   "source": [
    "print(d['root']['station'][0])"
   ]
  },
  {
   "cell_type": "markdown",
   "id": "b8738169",
   "metadata": {},
   "source": [
    "And this is another dictionary! (You can tell by the curly brackets).\n",
    "\n",
    "Most of the information appears to be in `etd`, which is another list. "
   ]
  },
  {
   "cell_type": "code",
   "execution_count": 12,
   "id": "aa7113cb",
   "metadata": {},
   "outputs": [
    {
     "name": "stdout",
     "output_type": "stream",
     "text": [
      "[{'destination': 'Antioch', 'abbreviation': 'ANTC', 'limited': '0', 'estimate': [{'minutes': '13', 'platform': '3', 'direction': 'North', 'length': '9', 'color': 'YELLOW', 'hexcolor': '#ffff33', 'bikeflag': '1', 'delay': '0'}, {'minutes': '28', 'platform': '3', 'direction': 'North', 'length': '10', 'color': 'YELLOW', 'hexcolor': '#ffff33', 'bikeflag': '1', 'delay': '0'}, {'minutes': '43', 'platform': '3', 'direction': 'North', 'length': '10', 'color': 'YELLOW', 'hexcolor': '#ffff33', 'bikeflag': '1', 'delay': '0'}]}, {'destination': 'Berryessa', 'abbreviation': 'BERY', 'limited': '0', 'estimate': [{'minutes': '3', 'platform': '2', 'direction': 'South', 'length': '5', 'color': 'ORANGE', 'hexcolor': '#ff9933', 'bikeflag': '1', 'delay': '61'}, {'minutes': '18', 'platform': '2', 'direction': 'South', 'length': '5', 'color': 'ORANGE', 'hexcolor': '#ff9933', 'bikeflag': '1', 'delay': '0'}, {'minutes': '33', 'platform': '2', 'direction': 'South', 'length': '5', 'color': 'ORANGE', 'hexcolor': '#ff9933', 'bikeflag': '1', 'delay': '0'}]}, {'destination': 'Millbrae/SFO', 'abbreviation': 'SFIA', 'limited': '0', 'estimate': [{'minutes': '9', 'platform': '2', 'direction': 'South', 'length': '5', 'color': 'RED', 'hexcolor': '#ff0000', 'bikeflag': '1', 'delay': '0'}, {'minutes': '24', 'platform': '2', 'direction': 'South', 'length': '5', 'color': 'RED', 'hexcolor': '#ff0000', 'bikeflag': '1', 'delay': '0'}, {'minutes': '39', 'platform': '2', 'direction': 'South', 'length': '5', 'color': 'RED', 'hexcolor': '#ff0000', 'bikeflag': '1', 'delay': '0'}]}, {'destination': 'Richmond', 'abbreviation': 'RICH', 'limited': '0', 'estimate': [{'minutes': '3', 'platform': '1', 'direction': 'North', 'length': '5', 'color': 'RED', 'hexcolor': '#ff0000', 'bikeflag': '1', 'delay': '0'}, {'minutes': '13', 'platform': '1', 'direction': 'North', 'length': '5', 'color': 'ORANGE', 'hexcolor': '#ff9933', 'bikeflag': '1', 'delay': '0'}, {'minutes': '18', 'platform': '1', 'direction': 'North', 'length': '5', 'color': 'RED', 'hexcolor': '#ff0000', 'bikeflag': '1', 'delay': '0'}]}, {'destination': 'SF Airport', 'abbreviation': 'SFIA', 'limited': '0', 'estimate': [{'minutes': '3', 'platform': '2', 'direction': 'South', 'length': '10', 'color': 'YELLOW', 'hexcolor': '#ffff33', 'bikeflag': '1', 'delay': '169'}, {'minutes': '15', 'platform': '2', 'direction': 'South', 'length': '10', 'color': 'YELLOW', 'hexcolor': '#ffff33', 'bikeflag': '1', 'delay': '0'}, {'minutes': '30', 'platform': '2', 'direction': 'South', 'length': '10', 'color': 'YELLOW', 'hexcolor': '#ffff33', 'bikeflag': '1', 'delay': '0'}]}]\n"
     ]
    }
   ],
   "source": [
    "print(d['root']['station'][0]['etd'])"
   ]
  },
  {
   "cell_type": "markdown",
   "id": "6fcd26ff",
   "metadata": {},
   "source": [
    "Each element of the list appears to be a dictionary, giving details of trains to a particular destination. Let's simplify things by pulling this list out to a separate variable.\n",
    "\n",
    "The `destination` item is self explanatory. The `estimate` item is yet another list!"
   ]
  },
  {
   "cell_type": "code",
   "execution_count": 13,
   "id": "5cfeb00c",
   "metadata": {},
   "outputs": [
    {
     "name": "stdout",
     "output_type": "stream",
     "text": [
      "Antioch\n",
      "[{'minutes': '13', 'platform': '3', 'direction': 'North', 'length': '9', 'color': 'YELLOW', 'hexcolor': '#ffff33', 'bikeflag': '1', 'delay': '0'}, {'minutes': '28', 'platform': '3', 'direction': 'North', 'length': '10', 'color': 'YELLOW', 'hexcolor': '#ffff33', 'bikeflag': '1', 'delay': '0'}, {'minutes': '43', 'platform': '3', 'direction': 'North', 'length': '10', 'color': 'YELLOW', 'hexcolor': '#ffff33', 'bikeflag': '1', 'delay': '0'}]\n",
      "Berryessa\n",
      "[{'minutes': '3', 'platform': '2', 'direction': 'South', 'length': '5', 'color': 'ORANGE', 'hexcolor': '#ff9933', 'bikeflag': '1', 'delay': '61'}, {'minutes': '18', 'platform': '2', 'direction': 'South', 'length': '5', 'color': 'ORANGE', 'hexcolor': '#ff9933', 'bikeflag': '1', 'delay': '0'}, {'minutes': '33', 'platform': '2', 'direction': 'South', 'length': '5', 'color': 'ORANGE', 'hexcolor': '#ff9933', 'bikeflag': '1', 'delay': '0'}]\n"
     ]
    }
   ],
   "source": [
    "etd = d['root']['station'][0]['etd']\n",
    "\n",
    "print(etd[0]['destination'])\n",
    "print(etd[0]['estimate'])\n",
    "\n",
    "print(etd[1]['destination'])\n",
    "print(etd[1]['estimate'])"
   ]
  },
  {
   "cell_type": "markdown",
   "id": "c32655fc",
   "metadata": {},
   "source": [
    "We can print this more nicely using the `.format()` method for a string. The curly braces `{}` are placeholders for the items to be inserted."
   ]
  },
  {
   "cell_type": "code",
   "execution_count": 14,
   "id": "raised-jimmy",
   "metadata": {},
   "outputs": [
    {
     "name": "stdout",
     "output_type": "stream",
     "text": [
      "Train to Antioch is arriving in 13 minutes\n"
     ]
    }
   ],
   "source": [
    "print('Train to {} is arriving in {} minutes'.format(etd[0]['destination'], etd[0]['estimate'][0]['minutes']))"
   ]
  },
  {
   "cell_type": "markdown",
   "id": "a556701f",
   "metadata": {},
   "source": [
    "To make this easier to work with, we can convert to a pandas `DataFrame`. This doesn't always work, but is worth a try."
   ]
  },
  {
   "cell_type": "code",
   "execution_count": 15,
   "id": "offshore-crown",
   "metadata": {},
   "outputs": [
    {
     "data": {
      "text/html": [
       "<div>\n",
       "<style scoped>\n",
       "    .dataframe tbody tr th:only-of-type {\n",
       "        vertical-align: middle;\n",
       "    }\n",
       "\n",
       "    .dataframe tbody tr th {\n",
       "        vertical-align: top;\n",
       "    }\n",
       "\n",
       "    .dataframe thead th {\n",
       "        text-align: right;\n",
       "    }\n",
       "</style>\n",
       "<table border=\"1\" class=\"dataframe\">\n",
       "  <thead>\n",
       "    <tr style=\"text-align: right;\">\n",
       "      <th></th>\n",
       "      <th>minutes</th>\n",
       "      <th>platform</th>\n",
       "      <th>direction</th>\n",
       "      <th>length</th>\n",
       "      <th>color</th>\n",
       "      <th>hexcolor</th>\n",
       "      <th>bikeflag</th>\n",
       "      <th>delay</th>\n",
       "    </tr>\n",
       "  </thead>\n",
       "  <tbody>\n",
       "    <tr>\n",
       "      <th>0</th>\n",
       "      <td>13</td>\n",
       "      <td>3</td>\n",
       "      <td>North</td>\n",
       "      <td>9</td>\n",
       "      <td>YELLOW</td>\n",
       "      <td>#ffff33</td>\n",
       "      <td>1</td>\n",
       "      <td>0</td>\n",
       "    </tr>\n",
       "    <tr>\n",
       "      <th>1</th>\n",
       "      <td>28</td>\n",
       "      <td>3</td>\n",
       "      <td>North</td>\n",
       "      <td>10</td>\n",
       "      <td>YELLOW</td>\n",
       "      <td>#ffff33</td>\n",
       "      <td>1</td>\n",
       "      <td>0</td>\n",
       "    </tr>\n",
       "    <tr>\n",
       "      <th>2</th>\n",
       "      <td>43</td>\n",
       "      <td>3</td>\n",
       "      <td>North</td>\n",
       "      <td>10</td>\n",
       "      <td>YELLOW</td>\n",
       "      <td>#ffff33</td>\n",
       "      <td>1</td>\n",
       "      <td>0</td>\n",
       "    </tr>\n",
       "  </tbody>\n",
       "</table>\n",
       "</div>"
      ],
      "text/plain": [
       "  minutes platform direction length   color hexcolor bikeflag delay\n",
       "0      13        3     North      9  YELLOW  #ffff33        1     0\n",
       "1      28        3     North     10  YELLOW  #ffff33        1     0\n",
       "2      43        3     North     10  YELLOW  #ffff33        1     0"
      ]
     },
     "execution_count": 15,
     "metadata": {},
     "output_type": "execute_result"
    }
   ],
   "source": [
    "import pandas as pd\n",
    "df = pd.DataFrame(etd[0]['estimate'])\n",
    "df"
   ]
  },
  {
   "cell_type": "markdown",
   "id": "404428ed",
   "metadata": {},
   "source": [
    "<div class=\"alert alert-block alert-info\">\n",
    "<strong>Exercise:</strong> How would you calculate the mean headway (time between trains)?\n",
    "</div>"
   ]
  },
  {
   "cell_type": "markdown",
   "id": "academic-schema",
   "metadata": {},
   "source": [
    "Now, let's generalize. The API above takes a string of a particular form. So we can write a function that gets the times for any station. All we are doing here is taking the code above, putting it into a function, and making the station id an argument to that function.\n",
    "\n",
    "Note the use of `.format()` to put the station and API key into the string.\n",
    "\n",
    "Also note that it only gives the times for the first destination. "
   ]
  },
  {
   "cell_type": "code",
   "execution_count": 16,
   "id": "infrared-laundry",
   "metadata": {},
   "outputs": [
    {
     "name": "stdout",
     "output_type": "stream",
     "text": [
      "Trains from 12TH to Antioch\n"
     ]
    },
    {
     "data": {
      "text/html": [
       "<div>\n",
       "<style scoped>\n",
       "    .dataframe tbody tr th:only-of-type {\n",
       "        vertical-align: middle;\n",
       "    }\n",
       "\n",
       "    .dataframe tbody tr th {\n",
       "        vertical-align: top;\n",
       "    }\n",
       "\n",
       "    .dataframe thead th {\n",
       "        text-align: right;\n",
       "    }\n",
       "</style>\n",
       "<table border=\"1\" class=\"dataframe\">\n",
       "  <thead>\n",
       "    <tr style=\"text-align: right;\">\n",
       "      <th></th>\n",
       "      <th>minutes</th>\n",
       "      <th>platform</th>\n",
       "      <th>direction</th>\n",
       "      <th>length</th>\n",
       "      <th>color</th>\n",
       "      <th>hexcolor</th>\n",
       "      <th>bikeflag</th>\n",
       "      <th>delay</th>\n",
       "    </tr>\n",
       "  </thead>\n",
       "  <tbody>\n",
       "    <tr>\n",
       "      <th>0</th>\n",
       "      <td>11</td>\n",
       "      <td>3</td>\n",
       "      <td>North</td>\n",
       "      <td>9</td>\n",
       "      <td>YELLOW</td>\n",
       "      <td>#ffff33</td>\n",
       "      <td>1</td>\n",
       "      <td>0</td>\n",
       "    </tr>\n",
       "    <tr>\n",
       "      <th>1</th>\n",
       "      <td>26</td>\n",
       "      <td>3</td>\n",
       "      <td>North</td>\n",
       "      <td>10</td>\n",
       "      <td>YELLOW</td>\n",
       "      <td>#ffff33</td>\n",
       "      <td>1</td>\n",
       "      <td>0</td>\n",
       "    </tr>\n",
       "    <tr>\n",
       "      <th>2</th>\n",
       "      <td>41</td>\n",
       "      <td>3</td>\n",
       "      <td>North</td>\n",
       "      <td>10</td>\n",
       "      <td>YELLOW</td>\n",
       "      <td>#ffff33</td>\n",
       "      <td>1</td>\n",
       "      <td>0</td>\n",
       "    </tr>\n",
       "  </tbody>\n",
       "</table>\n",
       "</div>"
      ],
      "text/plain": [
       "  minutes platform direction length   color hexcolor bikeflag delay\n",
       "0      11        3     North      9  YELLOW  #ffff33        1     0\n",
       "1      26        3     North     10  YELLOW  #ffff33        1     0\n",
       "2      41        3     North     10  YELLOW  #ffff33        1     0"
      ]
     },
     "execution_count": 16,
     "metadata": {},
     "output_type": "execute_result"
    }
   ],
   "source": [
    "def getArrivalTimes(station):\n",
    "    \"\"\"Returns a dataframe of arrival times for a given stop id\"\"\"\n",
    "    requestString = 'http://api.bart.gov/api/etd.aspx?cmd=etd&orig={}&json=y&key={}'.format(station, APIkey)\n",
    "    r = requests.get(requestString)\n",
    "    d = json.loads(r.text)\n",
    "    etd = d['root']['station'][0]['etd']\n",
    "    print('Trains from {} to {}'.format(station, etd[0]['destination']))\n",
    "    df = pd.DataFrame(etd[0]['estimate'])\n",
    "    return df\n",
    "\n",
    "\n",
    "getArrivalTimes('12TH')"
   ]
  },
  {
   "cell_type": "markdown",
   "id": "d3a2cc5a",
   "metadata": {},
   "source": [
    "We can get a list of stations using the `stns` command, according to the [documentation](https://api.bart.gov/docs/stn/stns.aspx).\n",
    "\n",
    "Then let's try another station using our handy function."
   ]
  },
  {
   "cell_type": "code",
   "execution_count": 17,
   "id": "fe6af426",
   "metadata": {},
   "outputs": [
    {
     "name": "stdout",
     "output_type": "stream",
     "text": [
      "<?xml version=\"1.0\" encoding=\"utf-8\"?><root><uri><![CDATA[http://api.bart.gov/api/stn.aspx?cmd=stns]]></uri><stations><station><name>12th St. Oakland City Center</name><abbr>12TH</abbr><gtfs_latitude>37.803768</gtfs_latitude><gtfs_longitude>-122.271450</gtfs_longitude><address>1245 Broadway</address><city>Oakland</city><county>alameda</county><state>CA</state><zipcode>94612</zipcode></station><station><name>16th St. Mission</name><abbr>16TH</abbr><gtfs_latitude>37.765062</gtfs_latitude><gtfs_longitude>-122.419694</gtfs_longitude><address>2000 Mission Street</address><city>San Francisco</city><county>sanfrancisco</county><state>CA</state><zipcode>94110</zipcode></station><station><name>19th St. Oakland</name><abbr>19TH</abbr><gtfs_latitude>37.808350</gtfs_latitude><gtfs_longitude>-122.268602</gtfs_longitude><address>1900 Broadway</address><city>Oakland</city><county>alameda</county><state>CA</state><zipcode>94612</zipcode></station><station><name>24th St. Mission</name><abbr>24TH</abbr><gtfs_latitude>37.752470</gtfs_latitude><gtfs_longitude>-122.418143</gtfs_longitude><address>2800 Mission Street</address><city>San Francisco</city><county>sanfrancisco</county><state>CA</state><zipcode>94110</zipcode></station><station><name>Antioch</name><abbr>ANTC</abbr><gtfs_latitude>37.995388</gtfs_latitude><gtfs_longitude>-121.780420</gtfs_longitude><address>1600 Slatten Ranch Road</address><city>Antioch</city><county>Contra Costa</county><state>CA</state><zipcode>94509</zipcode></station><station><name>Ashby</name><abbr>ASHB</abbr><gtfs_latitude>37.852803</gtfs_latitude><gtfs_longitude>-122.270062</gtfs_longitude><address>3100 Adeline Street</address><city>Berkeley</city><county>alameda</county><state>CA</state><zipcode>94703</zipcode></station><station><name>Balboa Park</name><abbr>BALB</abbr><gtfs_latitude>37.721585</gtfs_latitude><gtfs_longitude>-122.447506</gtfs_longitude><address>401 Geneva Avenue</address><city>San Francisco</city><county>sanfrancisco</county><state>CA</state><zipcode>94112</zipcode></station><station><name>Bay Fair</name><abbr>BAYF</abbr><gtfs_latitude>37.696924</gtfs_latitude><gtfs_longitude>-122.126514</gtfs_longitude><address>15242 Hesperian Blvd.</address><city>San Leandro</city><county>alameda</county><state>CA</state><zipcode>94578</zipcode></station><station><name>Berryessa/North San Jose</name><abbr>BERY</abbr><gtfs_latitude>37.368473</gtfs_latitude><gtfs_longitude>-121.874681</gtfs_longitude><address>1620 Berryessa Road</address><city>San Jose</city><county>Santa Clara</county><state>CA</state><zipcode>95133</zipcode></station><station><name>Castro Valley</name><abbr>CAST</abbr><gtfs_latitude>37.690746</gtfs_latitude><gtfs_longitude>-122.075602</gtfs_longitude><address>3301 Norbridge Dr.</address><city>Castro Valley</city><county>alameda</county><state>CA</state><zipcode>94546</zipcode></station><station><name>Civic Center/UN Plaza</name><abbr>CIVC</abbr><gtfs_latitude>37.779732</gtfs_latitude><gtfs_longitude>-122.414123</gtfs_longitude><address>1150 Market Street</address><city>San Francisco</city><county>sanfrancisco</county><state>CA</state><zipcode>94102</zipcode></station><station><name>Coliseum</name><abbr>COLS</abbr><gtfs_latitude>37.753661</gtfs_latitude><gtfs_longitude>-122.196869</gtfs_longitude><address>7200 San Leandro St.</address><city>Oakland</city><county>alameda</county><state>CA</state><zipcode>94621</zipcode></station><station><name>Colma</name><abbr>COLM</abbr><gtfs_latitude>37.684638</gtfs_latitude><gtfs_longitude>-122.466233</gtfs_longitude><address>365 D Street</address><city>Colma</city><county>sanmateo</county><state>CA</state><zipcode>94014</zipcode></station><station><name>Concord</name><abbr>CONC</abbr><gtfs_latitude>37.973737</gtfs_latitude><gtfs_longitude>-122.029095</gtfs_longitude><address>1451 Oakland Avenue</address><city>Concord</city><county>contracosta</county><state>CA</state><zipcode>94520</zipcode></station><station><name>Daly City</name><abbr>DALY</abbr><gtfs_latitude>37.706121</gtfs_latitude><gtfs_longitude>-122.469081</gtfs_longitude><address>500 John Daly Blvd.</address><city>Daly City</city><county>sanmateo</county><state>CA</state><zipcode>94014</zipcode></station><station><name>Downtown Berkeley</name><abbr>DBRK</abbr><gtfs_latitude>37.870104</gtfs_latitude><gtfs_longitude>-122.268133</gtfs_longitude><address>2160 Shattuck Avenue</address><city>Berkeley</city><county>alameda</county><state>CA</state><zipcode>94704</zipcode></station><station><name>Dublin/Pleasanton</name><abbr>DUBL</abbr><gtfs_latitude>37.701687</gtfs_latitude><gtfs_longitude>-121.899179</gtfs_longitude><address>5801 Owens Dr.</address><city>Pleasanton</city><county>alameda</county><state>CA</state><zipcode>94588</zipcode></station><station><name>El Cerrito del Norte</name><abbr>DELN</abbr><gtfs_latitude>37.925086</gtfs_latitude><gtfs_longitude>-122.316794</gtfs_longitude><address>6400 Cutting Blvd.</address><city>El Cerrito</city><county>contracosta</county><state>CA</state><zipcode>94530</zipcode></station><station><name>El Cerrito Plaza</name><abbr>PLZA</abbr><gtfs_latitude>37.902632</gtfs_latitude><gtfs_longitude>-122.298904</gtfs_longitude><address>6699 Fairmount Avenue</address><city>El Cerrito</city><county>contracosta</county><state>CA</state><zipcode>94530</zipcode></station><station><name>Embarcadero</name><abbr>EMBR</abbr><gtfs_latitude>37.792874</gtfs_latitude><gtfs_longitude>-122.397020</gtfs_longitude><address>298 Market Street</address><city>San Francisco</city><county>sanfrancisco</county><state>CA</state><zipcode>94111</zipcode></station><station><name>Fremont</name><abbr>FRMT</abbr><gtfs_latitude>37.557465</gtfs_latitude><gtfs_longitude>-121.976608</gtfs_longitude><address>2000 BART Way</address><city>Fremont</city><county>alameda</county><state>CA</state><zipcode>94536</zipcode></station><station><name>Fruitvale</name><abbr>FTVL</abbr><gtfs_latitude>37.774836</gtfs_latitude><gtfs_longitude>-122.224175</gtfs_longitude><address>3401 East 12th Street</address><city>Oakland</city><county>alameda</county><state>CA</state><zipcode>94601</zipcode></station><station><name>Glen Park</name><abbr>GLEN</abbr><gtfs_latitude>37.733064</gtfs_latitude><gtfs_longitude>-122.433817</gtfs_longitude><address>2901 Diamond Street</address><city>San Francisco</city><county>sanfrancisco</county><state>CA</state><zipcode>94131</zipcode></station><station><name>Hayward</name><abbr>HAYW</abbr><gtfs_latitude>37.669723</gtfs_latitude><gtfs_longitude>-122.087018</gtfs_longitude><address>699 'B' Street</address><city>Hayward</city><county>alameda</county><state>CA</state><zipcode>94541</zipcode></station><station><name>Lafayette</name><abbr>LAFY</abbr><gtfs_latitude>37.893176</gtfs_latitude><gtfs_longitude>-122.124630</gtfs_longitude><address>3601 Deer Hill Road</address><city>Lafayette</city><county>contracosta</county><state>CA</state><zipcode>94549</zipcode></station><station><name>Lake Merritt</name><abbr>LAKE</abbr><gtfs_latitude>37.797027</gtfs_latitude><gtfs_longitude>-122.265180</gtfs_longitude><address>800 Madison Street</address><city>Oakland</city><county>alameda</county><state>CA</state><zipcode>94607</zipcode></station><station><name>MacArthur</name><abbr>MCAR</abbr><gtfs_latitude>37.829065</gtfs_latitude><gtfs_longitude>-122.267040</gtfs_longitude><address>555 40th Street</address><city>Oakland</city><county>alameda</county><state>CA</state><zipcode>94609</zipcode></station><station><name>Millbrae</name><abbr>MLBR</abbr><gtfs_latitude>37.600271</gtfs_latitude><gtfs_longitude>-122.386702</gtfs_longitude><address>200 North Rollins Road</address><city>Millbrae</city><county>sanmateo</county><state>CA</state><zipcode>94030</zipcode></station><station><name>Milpitas</name><abbr>MLPT</abbr><gtfs_latitude>37.410277</gtfs_latitude><gtfs_longitude>-121.891081</gtfs_longitude><address>1755 S. Milpitas Blvd.</address><city>Milpitas</city><county>Santa Clara</county><state>CA</state><zipcode>95035</zipcode></station><station><name>Montgomery St.</name><abbr>MONT</abbr><gtfs_latitude>37.789405</gtfs_latitude><gtfs_longitude>-122.401066</gtfs_longitude><address>598 Market Street</address><city>San Francisco</city><county>sanfrancisco</county><state>CA</state><zipcode>94104</zipcode></station><station><name>North Berkeley</name><abbr>NBRK</abbr><gtfs_latitude>37.873967</gtfs_latitude><gtfs_longitude>-122.283440</gtfs_longitude><address>1750 Sacramento Street</address><city>Berkeley</city><county>alameda</county><state>CA</state><zipcode>94702</zipcode></station><station><name>North Concord/Martinez</name><abbr>NCON</abbr><gtfs_latitude>38.003193</gtfs_latitude><gtfs_longitude>-122.024653</gtfs_longitude><address>3700 Port Chicago Highway</address><city>Concord</city><county>contracosta</county><state>CA</state><zipcode>94520</zipcode></station><station><name>Oakland International Airport</name><abbr>OAKL</abbr><gtfs_latitude>37.713238</gtfs_latitude><gtfs_longitude>-122.212191</gtfs_longitude><address>4 Airport Drive</address><city>Oakland</city><county>alameda</county><state>CA</state><zipcode>94621</zipcode></station><station><name>Orinda</name><abbr>ORIN</abbr><gtfs_latitude>37.878361</gtfs_latitude><gtfs_longitude>-122.183791</gtfs_longitude><address>11 Camino Pablo</address><city>Orinda</city><county>contracosta</county><state>CA</state><zipcode>94563</zipcode></station><station><name>Pittsburg/Bay Point</name><abbr>PITT</abbr><gtfs_latitude>38.018914</gtfs_latitude><gtfs_longitude>-121.945154</gtfs_longitude><address>1700 West Leland Road</address><city>Pittsburg</city><county>contracosta</county><state>CA</state><zipcode>94565</zipcode></station><station><name>Pittsburg Center</name><abbr>PCTR</abbr><gtfs_latitude>38.016941</gtfs_latitude><gtfs_longitude>-121.889457</gtfs_longitude><address>2099 Railroad Avenue</address><city>Pittsburg</city><county>Contra Costa</county><state>CA</state><zipcode>94565</zipcode></station><station><name>Pleasant Hill/Contra Costa Centre</name><abbr>PHIL</abbr><gtfs_latitude>37.928468</gtfs_latitude><gtfs_longitude>-122.056012</gtfs_longitude><address>1365 Treat Blvd.</address><city>Walnut Creek</city><county>contracosta</county><state>CA</state><zipcode>94597</zipcode></station><station><name>Powell St.</name><abbr>POWL</abbr><gtfs_latitude>37.784471</gtfs_latitude><gtfs_longitude>-122.407974</gtfs_longitude><address>899 Market Street</address><city>San Francisco</city><county>sanfrancisco</county><state>CA</state><zipcode>94102</zipcode></station><station><name>Richmond</name><abbr>RICH</abbr><gtfs_latitude>37.936853</gtfs_latitude><gtfs_longitude>-122.353099</gtfs_longitude><address>1700 Nevin Avenue</address><city>Richmond</city><county>contracosta</county><state>CA</state><zipcode>94801</zipcode></station><station><name>Rockridge</name><abbr>ROCK</abbr><gtfs_latitude>37.844702</gtfs_latitude><gtfs_longitude>-122.251371</gtfs_longitude><address>5660 College Avenue</address><city>Oakland</city><county>alameda</county><state>CA</state><zipcode>94618</zipcode></station><station><name>San Bruno</name><abbr>SBRN</abbr><gtfs_latitude>37.637761</gtfs_latitude><gtfs_longitude>-122.416287</gtfs_longitude><address>1151 Huntington Avenue</address><city>San Bruno</city><county>sanmateo</county><state>CA</state><zipcode>94066</zipcode></station><station><name>San Francisco International Airport</name><abbr>SFIA</abbr><gtfs_latitude>37.615966</gtfs_latitude><gtfs_longitude>-122.392409</gtfs_longitude><address>International Terminal, Level 3</address><city>San Francisco Int'l Airport</city><county>sanmateo</county><state>CA</state><zipcode>94128</zipcode></station><station><name>San Leandro</name><abbr>SANL</abbr><gtfs_latitude>37.721947</gtfs_latitude><gtfs_longitude>-122.160844</gtfs_longitude><address>1401 San Leandro Blvd.</address><city>San Leandro</city><county>alameda</county><state>CA</state><zipcode>94577</zipcode></station><station><name>South Hayward</name><abbr>SHAY</abbr><gtfs_latitude>37.634375</gtfs_latitude><gtfs_longitude>-122.057189</gtfs_longitude><address>28601 Dixon Street</address><city>Hayward</city><county>alameda</county><state>CA</state><zipcode>94544</zipcode></station><station><name>South San Francisco</name><abbr>SSAN</abbr><gtfs_latitude>37.664245</gtfs_latitude><gtfs_longitude>-122.443960</gtfs_longitude><address>1333 Mission Road</address><city>South San Francisco</city><county>sanmateo</county><state>CA</state><zipcode>94080</zipcode></station><station><name>Union City</name><abbr>UCTY</abbr><gtfs_latitude>37.590630</gtfs_latitude><gtfs_longitude>-122.017388</gtfs_longitude><address>10 Union Square</address><city>Union City</city><county>alameda</county><state>CA</state><zipcode>94587</zipcode></station><station><name>Walnut Creek</name><abbr>WCRK</abbr><gtfs_latitude>37.905522</gtfs_latitude><gtfs_longitude>-122.067527</gtfs_longitude><address>200 Ygnacio Valley Road</address><city>Walnut Creek</city><county>contracosta</county><state>CA</state><zipcode>94596</zipcode></station><station><name>Warm Springs/South Fremont</name><abbr>WARM</abbr><gtfs_latitude>37.502171</gtfs_latitude><gtfs_longitude>-121.939313</gtfs_longitude><address>45193 Warm Springs Blvd</address><city>Fremont</city><county>alameda</county><state>CA</state><zipcode>94539</zipcode></station><station><name>West Dublin/Pleasanton</name><abbr>WDUB</abbr><gtfs_latitude>37.699756</gtfs_latitude><gtfs_longitude>-121.928240</gtfs_longitude><address>6501 Golden Gate Drive</address><city>Dublin</city><county>alameda</county><state>CA</state><zipcode>94568</zipcode></station><station><name>West Oakland</name><abbr>WOAK</abbr><gtfs_latitude>37.804872</gtfs_latitude><gtfs_longitude>-122.295140</gtfs_longitude><address>1451 7th Street</address><city>Oakland</city><county>alameda</county><state>CA</state><zipcode>94607</zipcode></station></stations><message></message></root>\n"
     ]
    }
   ],
   "source": [
    "requestString = 'http://api.bart.gov/api/stn.aspx?cmd=stns&key={}'.format(APIkey)\n",
    "r = requests.get(requestString)\n",
    "print(r.text)"
   ]
  },
  {
   "cell_type": "code",
   "execution_count": 18,
   "id": "75e47b66",
   "metadata": {},
   "outputs": [
    {
     "name": "stdout",
     "output_type": "stream",
     "text": [
      "Trains from CIVC to Antioch\n"
     ]
    },
    {
     "data": {
      "text/html": [
       "<div>\n",
       "<style scoped>\n",
       "    .dataframe tbody tr th:only-of-type {\n",
       "        vertical-align: middle;\n",
       "    }\n",
       "\n",
       "    .dataframe tbody tr th {\n",
       "        vertical-align: top;\n",
       "    }\n",
       "\n",
       "    .dataframe thead th {\n",
       "        text-align: right;\n",
       "    }\n",
       "</style>\n",
       "<table border=\"1\" class=\"dataframe\">\n",
       "  <thead>\n",
       "    <tr style=\"text-align: right;\">\n",
       "      <th></th>\n",
       "      <th>minutes</th>\n",
       "      <th>platform</th>\n",
       "      <th>direction</th>\n",
       "      <th>length</th>\n",
       "      <th>color</th>\n",
       "      <th>hexcolor</th>\n",
       "      <th>bikeflag</th>\n",
       "      <th>delay</th>\n",
       "    </tr>\n",
       "  </thead>\n",
       "  <tbody>\n",
       "    <tr>\n",
       "      <th>0</th>\n",
       "      <td>10</td>\n",
       "      <td>2</td>\n",
       "      <td>North</td>\n",
       "      <td>10</td>\n",
       "      <td>YELLOW</td>\n",
       "      <td>#ffff33</td>\n",
       "      <td>1</td>\n",
       "      <td>0</td>\n",
       "    </tr>\n",
       "    <tr>\n",
       "      <th>1</th>\n",
       "      <td>25</td>\n",
       "      <td>2</td>\n",
       "      <td>North</td>\n",
       "      <td>10</td>\n",
       "      <td>YELLOW</td>\n",
       "      <td>#ffff33</td>\n",
       "      <td>1</td>\n",
       "      <td>0</td>\n",
       "    </tr>\n",
       "    <tr>\n",
       "      <th>2</th>\n",
       "      <td>40</td>\n",
       "      <td>2</td>\n",
       "      <td>North</td>\n",
       "      <td>10</td>\n",
       "      <td>YELLOW</td>\n",
       "      <td>#ffff33</td>\n",
       "      <td>1</td>\n",
       "      <td>0</td>\n",
       "    </tr>\n",
       "  </tbody>\n",
       "</table>\n",
       "</div>"
      ],
      "text/plain": [
       "  minutes platform direction length   color hexcolor bikeflag delay\n",
       "0      10        2     North     10  YELLOW  #ffff33        1     0\n",
       "1      25        2     North     10  YELLOW  #ffff33        1     0\n",
       "2      40        2     North     10  YELLOW  #ffff33        1     0"
      ]
     },
     "execution_count": 18,
     "metadata": {},
     "output_type": "execute_result"
    }
   ],
   "source": [
    "getArrivalTimes('CIVC')"
   ]
  },
  {
   "cell_type": "markdown",
   "id": "0e530588",
   "metadata": {},
   "source": [
    "<div class=\"alert alert-block alert-info\">\n",
    "<strong>Let's recap.</strong> What did we just do?\n",
    "<ul>  \n",
    "<li>We constructed a text string following the API documentation, and passed that string to `requests`</li>\n",
    "<li>We did some step-by-step detective work to convert the output into a usable format</li>\n",
    "<li>We combined all of these steps into a function</li>\n",
    "</uli>\n",
    "</div>"
   ]
  },
  {
   "cell_type": "markdown",
   "id": "3ea68948",
   "metadata": {},
   "source": [
    "Let's focus on the first step, and try more commands from the BART API, [such as returning fare information](https://api.bart.gov/docs/sched/fare.aspx).\n",
    "\n",
    "We see that the string begins like this:\n",
    "\n",
    "`http://api.bart.gov/api/sched.aspx?cmd=fare`\n",
    "\n",
    "Then we add the various inputs separated by `?`.\n",
    "\n",
    "For example, the fare from `12TH` to `CIVC` is as follows."
   ]
  },
  {
   "cell_type": "code",
   "execution_count": 19,
   "id": "4d7e032a",
   "metadata": {},
   "outputs": [
    {
     "name": "stdout",
     "output_type": "stream",
     "text": [
      "{\"?xml\":{\"@version\":\"1.0\",\"@encoding\":\"utf-8\"},\"root\":{\"uri\":{\"#cdata-section\":\"http://api.bart.gov/api/sched.aspx?cmd=fare&orig=12TH&dest=CIVC&json=y\"},\"origin\":\"12TH\",\"destination\":\"CIVC\",\"trip\":{\"fare\":\"3.70\",\"discount\":{\"clipper\":\"1.35\"}},\"fares\":{\"@level\":\"normal\",\"fare\":[{\"@amount\":\"3.70\",\"@class\":\"clipper\",\"@name\":\"Clipper\"},{\"@amount\":\"2.95\",\"@class\":\"start\",\"@name\":\"Clipper START\"},{\"@amount\":\"1.35\",\"@class\":\"rtcclipper\",\"@name\":\"Senior/Disabled Clipper\"},{\"@amount\":\"1.85\",\"@class\":\"student\",\"@name\":\"Youth Clipper\"}]},\"message\":\"\"}}\n"
     ]
    }
   ],
   "source": [
    "requestString = 'http://api.bart.gov/api/sched.aspx?cmd=fare&orig=12TH&dest=CIVC&key={}&json=y'.format(APIkey)\n",
    "r = requests.get(requestString)\n",
    "print(r.text)"
   ]
  },
  {
   "cell_type": "markdown",
   "id": "e96831ea",
   "metadata": {},
   "source": [
    "Note that the output is the same as if you paste the string into a web browser."
   ]
  },
  {
   "cell_type": "code",
   "execution_count": 20,
   "id": "4618a417",
   "metadata": {},
   "outputs": [
    {
     "name": "stdout",
     "output_type": "stream",
     "text": [
      "http://api.bart.gov/api/sched.aspx?cmd=fare&orig=12TH&dest=CIVC&key=MW9S-E7SL-26DU-VV8V&json=y\n"
     ]
    }
   ],
   "source": [
    "print(requestString)"
   ]
  },
  {
   "cell_type": "markdown",
   "id": "be878b25",
   "metadata": {},
   "source": [
    "An alternative and more elegant way of calling requests is to put all the inputs (parameters) into a dictionary. This version is identical to the previous API call."
   ]
  },
  {
   "cell_type": "code",
   "execution_count": 21,
   "id": "1ef2ba70",
   "metadata": {},
   "outputs": [
    {
     "name": "stdout",
     "output_type": "stream",
     "text": [
      "{\"?xml\":{\"@version\":\"1.0\",\"@encoding\":\"utf-8\"},\"root\":{\"uri\":{\"#cdata-section\":\"http://api.bart.gov/api/sched.aspx?cmd=fare&orig=12TH&dest=CIVC&json=y\"},\"origin\":\"12TH\",\"destination\":\"CIVC\",\"trip\":{\"fare\":\"3.70\",\"discount\":{\"clipper\":\"1.35\"}},\"fares\":{\"@level\":\"normal\",\"fare\":[{\"@amount\":\"3.70\",\"@class\":\"clipper\",\"@name\":\"Clipper\"},{\"@amount\":\"2.95\",\"@class\":\"start\",\"@name\":\"Clipper START\"},{\"@amount\":\"1.35\",\"@class\":\"rtcclipper\",\"@name\":\"Senior/Disabled Clipper\"},{\"@amount\":\"1.85\",\"@class\":\"student\",\"@name\":\"Youth Clipper\"}]},\"message\":\"\"}}\n"
     ]
    }
   ],
   "source": [
    "requestString = 'http://api.bart.gov/api/sched.aspx'.format(APIkey)\n",
    "params = {'cmd':'fare',\n",
    "          'orig':'12TH',\n",
    "          'dest':'CIVC',\n",
    "          'key':APIkey,\n",
    "          'json':'y'}\n",
    "r = requests.get(requestString, params=params)\n",
    "print(r.text)"
   ]
  },
  {
   "cell_type": "markdown",
   "id": "9c523b6e",
   "metadata": {},
   "source": [
    "<div class=\"alert alert-block alert-info\">\n",
    "<strong>Exercise:</strong> Explore some of BART's other API collections at the same link above\n",
    "</div>"
   ]
  },
  {
   "cell_type": "markdown",
   "id": "excellent-spank",
   "metadata": {},
   "source": [
    "<div class=\"alert alert-block alert-info\">\n",
    "<h3>Key Takeaways</h3>\n",
    "<ul>\n",
    "  <li>Many APIs are just URLs. You can compose the URL as a string.</li>\n",
    "  <li>JSON is the typical format of the returned data, but you will often need to experiment.</li>\n",
    "  <li>Be nice! Some APIs will ask you to register. Most will kick you off if you make too many requests.</li>\n",
    "</ul>\n",
    "</div>"
   ]
  },
  {
   "cell_type": "code",
   "execution_count": null,
   "id": "8f6cd2af",
   "metadata": {},
   "outputs": [],
   "source": []
  }
 ],
 "metadata": {
  "kernelspec": {
   "display_name": "Python 3 (ipykernel)",
   "language": "python",
   "name": "python3"
  },
  "language_info": {
   "codemirror_mode": {
    "name": "ipython",
    "version": 3
   },
   "file_extension": ".py",
   "mimetype": "text/x-python",
   "name": "python",
   "nbconvert_exporter": "python",
   "pygments_lexer": "ipython3",
   "version": "3.8.13"
  },
  "livereveal": {
   "height": "90%",
   "scroll": true,
   "width": "90%"
  }
 },
 "nbformat": 4,
 "nbformat_minor": 5
}
