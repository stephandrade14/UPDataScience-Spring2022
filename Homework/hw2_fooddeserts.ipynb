{
 "cells": [
  {
   "cell_type": "markdown",
   "id": "a9341c15",
   "metadata": {
    "deletable": false,
    "editable": false,
    "nbgrader": {
     "cell_type": "markdown",
     "checksum": "a9e3e96622c69d004f4415b41c1dd5f9",
     "grade": false,
     "grade_id": "cell-3dc7d80e158fc62b",
     "locked": true,
     "schema_version": 3,
     "solution": false,
     "task": false
    }
   },
   "source": [
    "## Homework 2: Food deserts\n",
    "\n",
    "In this assignment, we'll use a variety of data sources to quantify the existence of food deserts in LA County. The assignment is *loosely* based on the food pantry example from class. It focuses on honing your skills in processing and joining data together, particularly spatially.\n",
    "\n",
    "A quick note: It's great to look at your variables, dataframes, etc. while you are exploring the data. But **please comment out those exploratory lines of code before submitting**. It makes it hard for us to find your solutions."
   ]
  },
  {
   "cell_type": "markdown",
   "id": "90c0dd7b",
   "metadata": {
    "deletable": false,
    "editable": false,
    "nbgrader": {
     "cell_type": "markdown",
     "checksum": "7d661f9f61e33a98c0b6575d3ec3fdd7",
     "grade": false,
     "grade_id": "cell-6a84245dac0a0a4e",
     "locked": true,
     "schema_version": 3,
     "solution": false,
     "task": false
    }
   },
   "source": [
    "Your repository includes a csv file of SNAP-authorized retailers. [It was downloaded from USDA.](https://www.fns.usda.gov/snap/retailer-locator) To my knowledge, this is the most comprehensive list of grocery outlets in the US.\n",
    "\n",
    "Load it into a pandas dataframe called `snapDf`. Keep only the observations that are in Los Angeles County. "
   ]
  },
  {
   "cell_type": "code",
   "execution_count": 2,
   "id": "49b3d0f0",
   "metadata": {
    "deletable": false,
    "nbgrader": {
     "cell_type": "code",
     "checksum": "e294e7763cbdda6b36c979af6d3a8560",
     "grade": false,
     "grade_id": "cell-9c9db5adffa35ab6",
     "locked": false,
     "schema_version": 3,
     "solution": true,
     "task": false
    },
    "scrolled": true
   },
   "outputs": [
    {
     "data": {
      "text/html": [
       "<div>\n",
       "<style scoped>\n",
       "    .dataframe tbody tr th:only-of-type {\n",
       "        vertical-align: middle;\n",
       "    }\n",
       "\n",
       "    .dataframe tbody tr th {\n",
       "        vertical-align: top;\n",
       "    }\n",
       "\n",
       "    .dataframe thead th {\n",
       "        text-align: right;\n",
       "    }\n",
       "</style>\n",
       "<table border=\"1\" class=\"dataframe\">\n",
       "  <thead>\n",
       "    <tr style=\"text-align: right;\">\n",
       "      <th></th>\n",
       "      <th>X</th>\n",
       "      <th>Y</th>\n",
       "      <th>ObjectId</th>\n",
       "      <th>Store_Name</th>\n",
       "      <th>Address</th>\n",
       "      <th>Address_Line__2</th>\n",
       "      <th>City</th>\n",
       "      <th>State</th>\n",
       "      <th>Zip5</th>\n",
       "      <th>Zip4</th>\n",
       "      <th>County</th>\n",
       "      <th>Longitude</th>\n",
       "      <th>Latitude</th>\n",
       "    </tr>\n",
       "  </thead>\n",
       "  <tbody>\n",
       "    <tr>\n",
       "      <th>147</th>\n",
       "      <td>-118.41369</td>\n",
       "      <td>34.240505</td>\n",
       "      <td>148</td>\n",
       "      <td>One Stop Mini Mart</td>\n",
       "      <td>12906 Branford St</td>\n",
       "      <td>NaN</td>\n",
       "      <td>Pacoima</td>\n",
       "      <td>CA</td>\n",
       "      <td>91331</td>\n",
       "      <td>4300</td>\n",
       "      <td>LOS ANGELES</td>\n",
       "      <td>-118.41369</td>\n",
       "      <td>34.240505</td>\n",
       "    </tr>\n",
       "    <tr>\n",
       "      <th>155</th>\n",
       "      <td>-118.08771</td>\n",
       "      <td>33.831539</td>\n",
       "      <td>156</td>\n",
       "      <td>Malty Chevron</td>\n",
       "      <td>11529 Carson St</td>\n",
       "      <td>NaN</td>\n",
       "      <td>Lakewood</td>\n",
       "      <td>CA</td>\n",
       "      <td>90715</td>\n",
       "      <td>2513</td>\n",
       "      <td>LOS ANGELES</td>\n",
       "      <td>-118.08771</td>\n",
       "      <td>33.831539</td>\n",
       "    </tr>\n",
       "    <tr>\n",
       "      <th>174</th>\n",
       "      <td>-118.05626</td>\n",
       "      <td>33.999092</td>\n",
       "      <td>175</td>\n",
       "      <td>Whittier Ranch Market</td>\n",
       "      <td>10722 Beverly Blvd</td>\n",
       "      <td>Ste J</td>\n",
       "      <td>Whittier</td>\n",
       "      <td>CA</td>\n",
       "      <td>90601</td>\n",
       "      <td>2052</td>\n",
       "      <td>LOS ANGELES</td>\n",
       "      <td>-118.05626</td>\n",
       "      <td>33.999092</td>\n",
       "    </tr>\n",
       "    <tr>\n",
       "      <th>276</th>\n",
       "      <td>-118.03526</td>\n",
       "      <td>34.057053</td>\n",
       "      <td>277</td>\n",
       "      <td>Favorito Market</td>\n",
       "      <td>2432 Tyler Ave</td>\n",
       "      <td>NaN</td>\n",
       "      <td>El Monte</td>\n",
       "      <td>CA</td>\n",
       "      <td>91733</td>\n",
       "      <td>2714</td>\n",
       "      <td>LOS ANGELES</td>\n",
       "      <td>-118.03526</td>\n",
       "      <td>34.057053</td>\n",
       "    </tr>\n",
       "    <tr>\n",
       "      <th>412</th>\n",
       "      <td>-118.21273</td>\n",
       "      <td>33.980682</td>\n",
       "      <td>413</td>\n",
       "      <td>Nabils Mobil Mart Llc</td>\n",
       "      <td>3084 E Gage Ave</td>\n",
       "      <td>EAS</td>\n",
       "      <td>Huntington Park</td>\n",
       "      <td>CA</td>\n",
       "      <td>90255</td>\n",
       "      <td>4432</td>\n",
       "      <td>LOS ANGELES</td>\n",
       "      <td>-118.21273</td>\n",
       "      <td>33.980682</td>\n",
       "    </tr>\n",
       "  </tbody>\n",
       "</table>\n",
       "</div>"
      ],
      "text/plain": [
       "             X          Y  ObjectId             Store_Name  \\\n",
       "147 -118.41369  34.240505       148     One Stop Mini Mart   \n",
       "155 -118.08771  33.831539       156          Malty Chevron   \n",
       "174 -118.05626  33.999092       175  Whittier Ranch Market   \n",
       "276 -118.03526  34.057053       277        Favorito Market   \n",
       "412 -118.21273  33.980682       413  Nabils Mobil Mart Llc   \n",
       "\n",
       "                Address Address_Line__2             City State   Zip5  Zip4  \\\n",
       "147   12906 Branford St             NaN          Pacoima    CA  91331  4300   \n",
       "155     11529 Carson St             NaN         Lakewood    CA  90715  2513   \n",
       "174  10722 Beverly Blvd           Ste J         Whittier    CA  90601  2052   \n",
       "276      2432 Tyler Ave             NaN         El Monte    CA  91733  2714   \n",
       "412     3084 E Gage Ave             EAS  Huntington Park    CA  90255  4432   \n",
       "\n",
       "          County  Longitude   Latitude  \n",
       "147  LOS ANGELES -118.41369  34.240505  \n",
       "155  LOS ANGELES -118.08771  33.831539  \n",
       "174  LOS ANGELES -118.05626  33.999092  \n",
       "276  LOS ANGELES -118.03526  34.057053  \n",
       "412  LOS ANGELES -118.21273  33.980682  "
      ]
     },
     "execution_count": 2,
     "metadata": {},
     "output_type": "execute_result"
    }
   ],
   "source": [
    "# your code here\n",
    "import pandas as pd \n",
    "snapDf = pd.read_csv('/Users/stephanieandrade/Documents/GitHub/urbandatascience-s22/hw2-joins-stephandrade14/hw2_joins/SNAP_Store_Locations.csv')\n",
    "snapDf = snapDf[snapDf.County=='LOS ANGELES']\n",
    "snapDf.head() # replace with your DataFrame"
   ]
  },
  {
   "cell_type": "code",
   "execution_count": 3,
   "id": "02caaaa3",
   "metadata": {
    "deletable": false,
    "editable": false,
    "nbgrader": {
     "cell_type": "code",
     "checksum": "b587abdb9b16d3da48b2b2d5c82aacb6",
     "grade": true,
     "grade_id": "cell-305852f1c65f5253",
     "locked": true,
     "points": 1,
     "schema_version": 3,
     "solution": false,
     "task": false
    },
    "scrolled": true
   },
   "outputs": [
    {
     "name": "stdout",
     "output_type": "stream",
     "text": [
      "Index(['X', 'Y', 'ObjectId', 'Store_Name', 'Address', 'Address_Line__2',\n",
      "       'City', 'State', 'Zip5', 'Zip4', 'County', 'Longitude', 'Latitude'],\n",
      "      dtype='object')\n",
      "['LOS ANGELES']\n",
      "6185\n"
     ]
    }
   ],
   "source": [
    "# Autograding tests - do not edit\n",
    "print(snapDf.columns)\n",
    "print(snapDf.County.unique())\n",
    "print(len(snapDf))\n",
    "assert all(snapDf.columns == ['X', 'Y', 'ObjectId', 'Store_Name', 'Address', 'Address_Line__2',\n",
    "       'City', 'State', 'Zip5', 'Zip4', 'County', 'Longitude', 'Latitude'])\n",
    "assert all(snapDf.County=='LOS ANGELES')\n",
    "assert len(snapDf)==6185"
   ]
  },
  {
   "cell_type": "markdown",
   "id": "420c31f8",
   "metadata": {
    "deletable": false,
    "editable": false,
    "nbgrader": {
     "cell_type": "markdown",
     "checksum": "fd88496dcfa3db4888dfff582e7b3843",
     "grade": false,
     "grade_id": "cell-d2ca8da07f678e6f",
     "locked": true,
     "schema_version": 3,
     "solution": false,
     "task": false
    }
   },
   "source": [
    "If you look at the store names, many of the places that accept SNAP benefits are liquor stores and gas stations. These might have an important role where no other food is available, but are likely to have a limited range of food, particularly fresh produce. \n",
    "\n",
    "Let's keep them in the dataset for the moment, but create a new column, `liquor_or_gas`, that is `True` if the store has `liquor` or `gas` in its name (`Store_Name`), and is `False` otherwise. Note that `True` and `False` should be boolean values, not the strings `\"True\"` and `\"False\"`. \n",
    "\n",
    "Pay attention to upper vs lower case! But don't worry about spelling errors here (although in practice, that should be part of your data cleaning).\n",
    "\n",
    "*Hint:* you can use `apply` with either a `lambda` anonymous function or a regular function. Look at the example from class where we create the `ped_accident_numeric` variable."
   ]
  },
  {
   "cell_type": "code",
   "execution_count": null,
   "id": "499250c2",
   "metadata": {},
   "outputs": [],
   "source": [
    "def liquororgas(x):\n",
    "    if x in'Liquor' in 'Store_Name':\n",
    "        return True\n",
    "    elif x=='Gas' in 'Store_Name':\n",
    "        return True\n",
    "    else:\n",
    "        return False"
   ]
  },
  {
   "cell_type": "code",
   "execution_count": null,
   "id": "f4e137d8",
   "metadata": {},
   "outputs": [],
   "source": [
    "liquororgas = lambda x: True if 'liquor' in x or 'gas' in x else False\n",
    "print(liquororgas('F&M Liquor'))"
   ]
  },
  {
   "cell_type": "code",
   "execution_count": 10,
   "id": "7517184f",
   "metadata": {
    "deletable": false,
    "nbgrader": {
     "cell_type": "code",
     "checksum": "c0a7b13e225a533761dfd98183fc00a8",
     "grade": false,
     "grade_id": "cell-737e9a720cea57dd",
     "locked": false,
     "schema_version": 3,
     "solution": true,
     "task": false
    }
   },
   "outputs": [
    {
     "data": {
      "text/html": [
       "<div>\n",
       "<style scoped>\n",
       "    .dataframe tbody tr th:only-of-type {\n",
       "        vertical-align: middle;\n",
       "    }\n",
       "\n",
       "    .dataframe tbody tr th {\n",
       "        vertical-align: top;\n",
       "    }\n",
       "\n",
       "    .dataframe thead th {\n",
       "        text-align: right;\n",
       "    }\n",
       "</style>\n",
       "<table border=\"1\" class=\"dataframe\">\n",
       "  <thead>\n",
       "    <tr style=\"text-align: right;\">\n",
       "      <th></th>\n",
       "      <th>Store_Name</th>\n",
       "      <th>liquor_or_gas</th>\n",
       "    </tr>\n",
       "  </thead>\n",
       "  <tbody>\n",
       "    <tr>\n",
       "      <th>147</th>\n",
       "      <td>One Stop Mini Mart</td>\n",
       "      <td>False</td>\n",
       "    </tr>\n",
       "    <tr>\n",
       "      <th>155</th>\n",
       "      <td>Malty Chevron</td>\n",
       "      <td>False</td>\n",
       "    </tr>\n",
       "    <tr>\n",
       "      <th>174</th>\n",
       "      <td>Whittier Ranch Market</td>\n",
       "      <td>False</td>\n",
       "    </tr>\n",
       "    <tr>\n",
       "      <th>276</th>\n",
       "      <td>Favorito Market</td>\n",
       "      <td>False</td>\n",
       "    </tr>\n",
       "    <tr>\n",
       "      <th>412</th>\n",
       "      <td>Nabils Mobil Mart Llc</td>\n",
       "      <td>False</td>\n",
       "    </tr>\n",
       "    <tr>\n",
       "      <th>415</th>\n",
       "      <td>Richard's Liquor 1</td>\n",
       "      <td>False</td>\n",
       "    </tr>\n",
       "    <tr>\n",
       "      <th>431</th>\n",
       "      <td>El Progreso 4</td>\n",
       "      <td>False</td>\n",
       "    </tr>\n",
       "    <tr>\n",
       "      <th>487</th>\n",
       "      <td>New India Sweet &amp; Spices</td>\n",
       "      <td>False</td>\n",
       "    </tr>\n",
       "    <tr>\n",
       "      <th>514</th>\n",
       "      <td>Tare Grocery</td>\n",
       "      <td>False</td>\n",
       "    </tr>\n",
       "    <tr>\n",
       "      <th>531</th>\n",
       "      <td>Downey Mart</td>\n",
       "      <td>False</td>\n",
       "    </tr>\n",
       "    <tr>\n",
       "      <th>544</th>\n",
       "      <td>Arco Ampm 42516</td>\n",
       "      <td>False</td>\n",
       "    </tr>\n",
       "    <tr>\n",
       "      <th>600</th>\n",
       "      <td>Bens Market</td>\n",
       "      <td>False</td>\n",
       "    </tr>\n",
       "    <tr>\n",
       "      <th>635</th>\n",
       "      <td>Wee Vill Market</td>\n",
       "      <td>False</td>\n",
       "    </tr>\n",
       "    <tr>\n",
       "      <th>688</th>\n",
       "      <td>Arco Ampm 42766</td>\n",
       "      <td>False</td>\n",
       "    </tr>\n",
       "    <tr>\n",
       "      <th>704</th>\n",
       "      <td>Bonitos Market</td>\n",
       "      <td>False</td>\n",
       "    </tr>\n",
       "    <tr>\n",
       "      <th>841</th>\n",
       "      <td>Oxford Mini Mart</td>\n",
       "      <td>False</td>\n",
       "    </tr>\n",
       "    <tr>\n",
       "      <th>926</th>\n",
       "      <td>United Pacific 0223</td>\n",
       "      <td>False</td>\n",
       "    </tr>\n",
       "    <tr>\n",
       "      <th>963</th>\n",
       "      <td>Mlk Gas Station 0</td>\n",
       "      <td>False</td>\n",
       "    </tr>\n",
       "    <tr>\n",
       "      <th>964</th>\n",
       "      <td>F &amp; M Liquor</td>\n",
       "      <td>False</td>\n",
       "    </tr>\n",
       "    <tr>\n",
       "      <th>1011</th>\n",
       "      <td>7- Star Liquor &amp; Market N/A</td>\n",
       "      <td>False</td>\n",
       "    </tr>\n",
       "  </tbody>\n",
       "</table>\n",
       "</div>"
      ],
      "text/plain": [
       "                       Store_Name  liquor_or_gas\n",
       "147            One Stop Mini Mart          False\n",
       "155                 Malty Chevron          False\n",
       "174         Whittier Ranch Market          False\n",
       "276               Favorito Market          False\n",
       "412         Nabils Mobil Mart Llc          False\n",
       "415            Richard's Liquor 1          False\n",
       "431                 El Progreso 4          False\n",
       "487      New India Sweet & Spices          False\n",
       "514                 Tare Grocery           False\n",
       "531                   Downey Mart          False\n",
       "544               Arco Ampm 42516          False\n",
       "600                   Bens Market          False\n",
       "635              Wee Vill Market           False\n",
       "688               Arco Ampm 42766          False\n",
       "704                Bonitos Market          False\n",
       "841              Oxford Mini Mart          False\n",
       "926           United Pacific 0223          False\n",
       "963             Mlk Gas Station 0          False\n",
       "964                  F & M Liquor          False\n",
       "1011  7- Star Liquor & Market N/A          False"
      ]
     },
     "execution_count": 10,
     "metadata": {},
     "output_type": "execute_result"
    }
   ],
   "source": [
    " # your code here\n",
    "def liquororgas(x):\n",
    "    if x == 'liquor':\n",
    "        return True\n",
    "    elif x == 'gas':\n",
    "        return True\n",
    "    else:\n",
    "        return False\n",
    "snapDf['liquor_or_gas'] = snapDf.Store_Name.apply(liquororgas) #new column\n",
    "snapDf[['Store_Name','liquor_or_gas']].head(20)"
   ]
  },
  {
   "cell_type": "code",
   "execution_count": null,
   "id": "d8d83a21",
   "metadata": {},
   "outputs": [],
   "source": []
  },
  {
   "cell_type": "code",
   "execution_count": null,
   "id": "6b4b1969",
   "metadata": {},
   "outputs": [],
   "source": []
  },
  {
   "cell_type": "code",
   "execution_count": null,
   "id": "3caf3b7e",
   "metadata": {},
   "outputs": [],
   "source": []
  },
  {
   "cell_type": "code",
   "execution_count": null,
   "id": "7a25c463",
   "metadata": {},
   "outputs": [],
   "source": []
  },
  {
   "cell_type": "code",
   "execution_count": null,
   "id": "8e2d86d6",
   "metadata": {},
   "outputs": [],
   "source": []
  },
  {
   "cell_type": "code",
   "execution_count": null,
   "id": "eefecc1a",
   "metadata": {},
   "outputs": [],
   "source": []
  },
  {
   "cell_type": "code",
   "execution_count": null,
   "id": "cd4ba823",
   "metadata": {},
   "outputs": [],
   "source": []
  },
  {
   "cell_type": "code",
   "execution_count": null,
   "id": "679d34c7",
   "metadata": {
    "deletable": false,
    "editable": false,
    "nbgrader": {
     "cell_type": "code",
     "checksum": "fa516d3a381dea702551d16c1d86653e",
     "grade": true,
     "grade_id": "cell-8e1b371c073739f6",
     "locked": true,
     "points": 1,
     "schema_version": 3,
     "solution": false,
     "task": false
    }
   },
   "outputs": [],
   "source": [
    "# Autograding tests - do not edit\n",
    "print(snapDf.liquor_or_gas.mean().round(2))\n",
    "print(snapDf.liquor_or_gas.dtype)\n",
    "assert snapDf.liquor_or_gas.mean().round(2) == 0.13\n",
    "assert snapDf.liquor_or_gas.dtype=='bool'"
   ]
  },
  {
   "cell_type": "markdown",
   "id": "6448cfdf",
   "metadata": {
    "deletable": false,
    "editable": false,
    "nbgrader": {
     "cell_type": "markdown",
     "checksum": "af5354823dd3965daadcfad5666eefd4",
     "grade": false,
     "grade_id": "cell-6033d67150e950bf",
     "locked": true,
     "schema_version": 3,
     "solution": false,
     "task": false
    }
   },
   "source": [
    "Let's have a quick look at how the proportion of liquor stores / gas stations varies by city. If you look at the `City` field, there's some cleaning that needs to be done first, however.\n",
    "\n",
    "Replace the `City` field so that all the cities are in Title case. (Title case means the first letter of each word is capitalized, such as Los Angeles or North Hollywood.)\n",
    "\n",
    "*Hint:* The `title()` function works the same way as `upper()` and `lower()`."
   ]
  },
  {
   "cell_type": "code",
   "execution_count": null,
   "id": "978f9e12",
   "metadata": {
    "deletable": false,
    "nbgrader": {
     "cell_type": "code",
     "checksum": "8fc77d882340b6c64bb3dc177bd0f092",
     "grade": false,
     "grade_id": "cell-48ebe7073a3f711b",
     "locked": false,
     "schema_version": 3,
     "solution": true,
     "task": false
    }
   },
   "outputs": [],
   "source": [
    "# your code here\n",
    "\n",
    "\n"
   ]
  },
  {
   "cell_type": "code",
   "execution_count": null,
   "id": "4bb4b66a",
   "metadata": {
    "deletable": false,
    "editable": false,
    "nbgrader": {
     "cell_type": "code",
     "checksum": "ad568525d3e5b8bb96b7a1a7af0a6844",
     "grade": true,
     "grade_id": "cell-a462b665a2ba1990",
     "locked": true,
     "points": 1,
     "schema_version": 3,
     "solution": false,
     "task": false
    }
   },
   "outputs": [],
   "source": [
    "# Autograding tests - do not edit\n",
    "print(len(snapDf.City.unique()))\n",
    "assert len(snapDf.City.unique()) == 148\n",
    "assert 'Los Angeles' in snapDf.City.values"
   ]
  },
  {
   "cell_type": "markdown",
   "id": "381f18e6",
   "metadata": {
    "deletable": false,
    "editable": false,
    "nbgrader": {
     "cell_type": "markdown",
     "checksum": "71f65ad064240c91958aa6a048359d05",
     "grade": false,
     "grade_id": "cell-356cb4bb2b44cd99",
     "locked": true,
     "schema_version": 3,
     "solution": false,
     "task": false
    }
   },
   "source": [
    "Now, look at the proportion of liquor stores / gas stations by city. \n",
    "\n",
    "In which cities are at least 25% of the SNAP outlets liquor stores or gas stations? Assign this list of cities and their means to a `pandas` `Series` called `cities_subset`. (Remember, a `Series` is like a one-column `DataFrame`.) \n",
    "\n",
    "*Hint:* You'll need to `groupby` the `City` field to get the means for all cities. Then, in a second line, restrict your result to just those cities with a mean of at least 25%."
   ]
  },
  {
   "cell_type": "code",
   "execution_count": null,
   "id": "c42fce48",
   "metadata": {
    "deletable": false,
    "nbgrader": {
     "cell_type": "code",
     "checksum": "c8c331a94cebb45c2f59c085ab938042",
     "grade": false,
     "grade_id": "cell-cb81ef63d50104ef",
     "locked": false,
     "schema_version": 3,
     "solution": true,
     "task": false
    }
   },
   "outputs": [],
   "source": [
    "# your code here\n",
    "cities_subset = 999 # replace 999 with your answer\n",
    "\n"
   ]
  },
  {
   "cell_type": "code",
   "execution_count": null,
   "id": "277c44b3",
   "metadata": {
    "deletable": false,
    "editable": false,
    "nbgrader": {
     "cell_type": "code",
     "checksum": "ed396d0002ed70282febf208468d821e",
     "grade": true,
     "grade_id": "cell-ade5c2d2ecc256e6",
     "locked": true,
     "points": 1,
     "schema_version": 3,
     "solution": false,
     "task": false
    }
   },
   "outputs": [],
   "source": [
    "# Autograding tests - do not edit\n",
    "print(len(cities_subset))\n",
    "assert isinstance(cities_subset, pd.Series)\n",
    "assert len(cities_subset)==11"
   ]
  },
  {
   "cell_type": "markdown",
   "id": "0369f375",
   "metadata": {
    "deletable": false,
    "editable": false,
    "nbgrader": {
     "cell_type": "markdown",
     "checksum": "bce408c622b9ecd4d84015689547d03a",
     "grade": false,
     "grade_id": "cell-a3ad0abdd4125910",
     "locked": true,
     "schema_version": 3,
     "solution": false,
     "task": false
    }
   },
   "source": [
    "Now, let's bring in the [California EnviroScreen data](https://oehha.ca.gov/calenviroscreen/maps-data). This has both demographic and environmental justice-related data, and also the spatial boundaries of census tracts. We used it in class, so it will be in your GitHub course repository.\n",
    "\n",
    "Load the data in to a `geopandas` `GeoDataFrame` called `esGdf`, and restrict it to the tracts in LA county."
   ]
  },
  {
   "cell_type": "code",
   "execution_count": null,
   "id": "8722fd4f",
   "metadata": {
    "deletable": false,
    "nbgrader": {
     "cell_type": "code",
     "checksum": "65eb4a519d1b6806c3a57960f23a1ed8",
     "grade": false,
     "grade_id": "cell-f87e5fccf4b6108f",
     "locked": false,
     "schema_version": 3,
     "solution": true,
     "task": false
    }
   },
   "outputs": [],
   "source": [
    "# your code here\n",
    "import geopandas as gpd\n",
    "esGdf = 999 # replace with your code\n",
    "\n"
   ]
  },
  {
   "cell_type": "code",
   "execution_count": null,
   "id": "319ba326",
   "metadata": {
    "deletable": false,
    "editable": false,
    "nbgrader": {
     "cell_type": "code",
     "checksum": "c230f869611c3da5d541aaf045914055",
     "grade": true,
     "grade_id": "cell-5ed4e65bf030fab1",
     "locked": true,
     "points": 1,
     "schema_version": 3,
     "solution": false,
     "task": false
    }
   },
   "outputs": [],
   "source": [
    "# Autograding tests - do not edit\n",
    "print(len(esGdf))\n",
    "assert len(esGdf)==2343\n",
    "assert isinstance(esGdf, gpd.GeoDataFrame)"
   ]
  },
  {
   "cell_type": "markdown",
   "id": "66effde4",
   "metadata": {
    "deletable": false,
    "editable": false,
    "nbgrader": {
     "cell_type": "markdown",
     "checksum": "144b206464b91ae5ddcbc56406292649",
     "grade": false,
     "grade_id": "cell-fed495a3b2b2f062",
     "locked": true,
     "schema_version": 3,
     "solution": false,
     "task": false
    }
   },
   "source": [
    "First, let's do a tabular (non-spatial) join to ZIP code.\n",
    "\n",
    "Create a new dataframe called `zipcodes` with one row for each ZIP code, that includes the following columns:\n",
    "* `n_SNAP`: the number of SNAP outlets\n",
    "* `n_SNAP_excl_liquor_gas`: the number of SNAP outlets excluding liquor and gas stores\n",
    "* `es_percentile`: the mean EnviroScreen percentile (`CIscoreP`) for census tracts that intersect the ZIP code\n",
    "\n",
    "(In practice, we might want to weight census tracts by area or population, but don't worry about that here.)\n",
    "\n",
    "*Hints*:\n",
    "- I recommend creating three temporary dataframes (or Series) at the ZIP-code level with the number of SNAP outlets, the number of non-liquor and gas store SNAP outlets, and the mean score\n",
    "- If you get an error that `Series object has no attribute 'join'`, you can convert that Series to a DataFrame: `pd.DataFrame(your_series_name)` \n",
    "- Then, you can join them all together\n",
    "- You'll probably need to rename the columns\n",
    "- Remember to include all ZIP codes, including ones without a SNAP outlet, and replace NaNs with zeros if appropriate"
   ]
  },
  {
   "cell_type": "code",
   "execution_count": null,
   "id": "12d4cdfd",
   "metadata": {
    "deletable": false,
    "nbgrader": {
     "cell_type": "code",
     "checksum": "498d54645441d85df5ca78fb522daf80",
     "grade": false,
     "grade_id": "cell-69fdaeb9e6fde589",
     "locked": false,
     "schema_version": 3,
     "solution": true,
     "task": false
    }
   },
   "outputs": [],
   "source": [
    "# your code here\n",
    "zipcodes = 999\n",
    "\n"
   ]
  },
  {
   "cell_type": "code",
   "execution_count": null,
   "id": "4090c413",
   "metadata": {
    "deletable": false,
    "editable": false,
    "nbgrader": {
     "cell_type": "code",
     "checksum": "dc11e1099cc087944ef6616114548903",
     "grade": true,
     "grade_id": "cell-a025aae73108a6ad",
     "locked": true,
     "points": 2,
     "schema_version": 3,
     "solution": false,
     "task": false
    }
   },
   "outputs": [],
   "source": [
    "# Autograding tests - do not edit\n",
    "\n",
    "print(len(zipcodes))\n",
    "print(zipcodes.mean())\n",
    "\n",
    "assert len(zipcodes) == 282\n",
    "assert zipcodes.CIscoreP.mean().round(2) == 26.70\n",
    "assert zipcodes.n_SNAP_excl_liquor_gas.mean().round(2) == 18.97"
   ]
  },
  {
   "cell_type": "markdown",
   "id": "6c7d71fc",
   "metadata": {
    "deletable": false,
    "editable": false,
    "nbgrader": {
     "cell_type": "markdown",
     "checksum": "79ad93888cd4a74f616ea224dff88c4b",
     "grade": false,
     "grade_id": "cell-5888194e2f4afc11",
     "locked": true,
     "schema_version": 3,
     "solution": false,
     "task": false
    }
   },
   "source": [
    "Now let's do a spatial join. \n",
    "\n",
    "`esGdf` already has a `geometry` column and is a GeoDataFrame, but `snapDf` is a regular pandas DataFrame.\n",
    "\n",
    "Use the `Latitude` and `Longitude` columns to add a point geometry field to `snapDf`, and turn it into a `GeoDataFrame` called `snapGdf`. "
   ]
  },
  {
   "cell_type": "code",
   "execution_count": null,
   "id": "6a3ed4df",
   "metadata": {
    "deletable": false,
    "nbgrader": {
     "cell_type": "code",
     "checksum": "eacd20407f924c6d9ef94f106cd95e97",
     "grade": false,
     "grade_id": "cell-9987c034d487a7f6",
     "locked": false,
     "schema_version": 3,
     "solution": true,
     "task": false
    }
   },
   "outputs": [],
   "source": [
    "# your code here\n",
    "snapGdf = 999 # replace 999 with your solution\n",
    "\n",
    "\n"
   ]
  },
  {
   "cell_type": "code",
   "execution_count": null,
   "id": "31a32e07",
   "metadata": {
    "deletable": false,
    "editable": false,
    "nbgrader": {
     "cell_type": "code",
     "checksum": "7b30a18e713c007772915859c69456f9",
     "grade": true,
     "grade_id": "cell-4f619f3ad43dba06",
     "locked": true,
     "points": 1,
     "schema_version": 3,
     "solution": false,
     "task": false
    }
   },
   "outputs": [],
   "source": [
    "# Autograding tests - do not edit\n",
    "print(snapGdf.geometry.x.min())\n",
    "print(snapGdf.geometry.y.max())\n",
    "assert isinstance(snapGdf, gpd.GeoDataFrame)\n",
    "assert snapGdf.geometry.x.min().round(2) == -118.81\n",
    "assert snapGdf.geometry.y.max().round(2) == 35.13"
   ]
  },
  {
   "cell_type": "markdown",
   "id": "955036ef",
   "metadata": {
    "deletable": false,
    "editable": false,
    "nbgrader": {
     "cell_type": "markdown",
     "checksum": "abd46e5aeb979beded70150d690216f0",
     "grade": false,
     "grade_id": "cell-3f672bf7068df0ca",
     "locked": true,
     "schema_version": 3,
     "solution": false,
     "task": false
    }
   },
   "source": [
    "Now, let's join the two GeoDataFrames together. The aim: count the number of SNAP outlets (in both our liquor store/gas station and other categories) per census tract.\n",
    "\n",
    "There are several ways to do it. My suggestion is as follows:\n",
    "1. Add the `tract` column to `snapGdf` using a spatial join\n",
    "2. Aggregate `snapGdf` by the new `tract` column using `groupby()`, to get a count of SNAP outlets in each tract\n",
    "3. Join those counts to `esGdf`\n",
    "\n",
    "Let's do these one step at a time. First, add the `tract` column to `snapGdf`. I suggest you use the `gpd.sjoin()` function and a left join. Call the new `GeoDataFrame` `snapGdf2`.\n",
    "\n",
    "*Hint:* You might need to reproject!"
   ]
  },
  {
   "cell_type": "code",
   "execution_count": null,
   "id": "6846011d",
   "metadata": {
    "deletable": false,
    "nbgrader": {
     "cell_type": "code",
     "checksum": "cf436a52c3f73e74327107a6a384c196",
     "grade": false,
     "grade_id": "cell-5e76ac9ba8d18da8",
     "locked": false,
     "schema_version": 3,
     "solution": true,
     "task": false
    }
   },
   "outputs": [],
   "source": [
    "# your code here\n",
    "snapGdf2 = 999 # replace 999 with your code\n",
    "\n"
   ]
  },
  {
   "cell_type": "code",
   "execution_count": null,
   "id": "6ff7f51c",
   "metadata": {
    "deletable": false,
    "editable": false,
    "nbgrader": {
     "cell_type": "code",
     "checksum": "2d6d8a034b14e02cd1a0753f2ed449ae",
     "grade": true,
     "grade_id": "cell-9df174d78f540fa0",
     "locked": true,
     "points": 1,
     "schema_version": 3,
     "solution": false,
     "task": false
    }
   },
   "outputs": [],
   "source": [
    "# Autograding tests - do not edit\n",
    "print(len(snapGdf2))\n",
    "\n",
    "assert len(snapGdf2)==6212\n",
    "assert 'Tract' in snapGdf2.columns\n"
   ]
  },
  {
   "cell_type": "markdown",
   "id": "df26d5a9",
   "metadata": {
    "deletable": false,
    "editable": false,
    "nbgrader": {
     "cell_type": "markdown",
     "checksum": "ecf32c302e3516f69f0ff0bea7753649",
     "grade": false,
     "grade_id": "cell-60b82c2155a719e8",
     "locked": true,
     "schema_version": 3,
     "solution": false,
     "task": false
    }
   },
   "source": [
    "That should have been a 1:many join, not the 1:1 join that you might have been expecting. (You ended up with more rows than you started with). Think about what might have caused this! \n",
    "\n",
    "We didn't cover in class how to drop the duplicates, but the block of code below should fix it."
   ]
  },
  {
   "cell_type": "code",
   "execution_count": null,
   "id": "ce65e1af",
   "metadata": {
    "deletable": false,
    "editable": false,
    "nbgrader": {
     "cell_type": "code",
     "checksum": "d8b0257249def93634a170283dd0005d",
     "grade": false,
     "grade_id": "cell-70e591fd94f9751c",
     "locked": true,
     "schema_version": 3,
     "solution": false,
     "task": false
    }
   },
   "outputs": [],
   "source": [
    "print('{} rows in snapGdf'.format(len(snapGdf)))\n",
    "print('{} rows in snapGdf2 (after join)'.format(len(snapGdf2)))\n",
    "\n",
    "# you can also see that the ObjectId column (which identifies the SNAP providers) \n",
    "# is unique before the join, but not after\n",
    "print(snapGdf.ObjectId.is_unique)  # is there one row per SNAP outlet before the join?\n",
    "print(snapGdf2.ObjectId.is_unique) # is there one row per SNAP outlet after the join?\n",
    "\n",
    "# drop the duplicates by just taking the first ObjectId that joins to each tract\n",
    "# https://pandas.pydata.org/docs/reference/api/pandas.DataFrame.drop_duplicates.html\n",
    "snapGdf2.drop_duplicates(subset='ObjectId', keep='first', inplace=True)\n",
    "print('{} rows in snapGdf2 (after dropping duplicates)'.format(len(snapGdf2)))"
   ]
  },
  {
   "cell_type": "markdown",
   "id": "d2f905a6",
   "metadata": {
    "deletable": false,
    "editable": false,
    "nbgrader": {
     "cell_type": "markdown",
     "checksum": "974b3aae5970ed5b65b2230366974936",
     "grade": false,
     "grade_id": "cell-e7a71e649a4ce0f2",
     "locked": true,
     "schema_version": 3,
     "solution": false,
     "task": false
    }
   },
   "source": [
    "Now, aggregate snapGdf2 by the new `tract` column to get a count of SNAP outlets in each census tract. Call the resulting Series `snap_counts`."
   ]
  },
  {
   "cell_type": "code",
   "execution_count": null,
   "id": "2ae5f4b5",
   "metadata": {
    "deletable": false,
    "nbgrader": {
     "cell_type": "code",
     "checksum": "61a4c8518d12df8cdd98e9e3a4a3cd8e",
     "grade": false,
     "grade_id": "cell-d67798f8deff3de7",
     "locked": false,
     "schema_version": 3,
     "solution": true,
     "task": false
    }
   },
   "outputs": [],
   "source": [
    "snap_counts = 999 # your code here\n",
    "\n",
    "\n"
   ]
  },
  {
   "cell_type": "code",
   "execution_count": null,
   "id": "44f24aac",
   "metadata": {
    "deletable": false,
    "editable": false,
    "nbgrader": {
     "cell_type": "code",
     "checksum": "7685bee1b55b4c3341de91988f1857cd",
     "grade": true,
     "grade_id": "cell-33e9bdc1d457a990",
     "locked": true,
     "points": 1,
     "schema_version": 3,
     "solution": false,
     "task": false
    }
   },
   "outputs": [],
   "source": [
    "# Autograding tests - do not edit\n",
    "print(snap_counts.sum())\n",
    "assert snap_counts.sum() == 6144"
   ]
  },
  {
   "cell_type": "markdown",
   "id": "5ea748f8",
   "metadata": {
    "deletable": false,
    "editable": false,
    "nbgrader": {
     "cell_type": "markdown",
     "checksum": "f55354cb614e3b5665b621dae2e9d859",
     "grade": false,
     "grade_id": "cell-9d9459ea0c856988",
     "locked": true,
     "schema_version": 3,
     "solution": false,
     "task": false
    }
   },
   "source": [
    "Final step in the join process! Let's join `snap_counts` back to `esGdf` to create a new geodataframe called `joinedGdf`. \n",
    "\n",
    "Call the new column `n_snap`. (*Hint*: the easiest way to get this name is to rename the Series in the previous answer.)\n",
    "\n",
    "This should be a left join (so you don't leave out any census tracts) on the `Tract` column.\n",
    "\n",
    "Remember to fill in any missing data with zeros, if appropriate."
   ]
  },
  {
   "cell_type": "code",
   "execution_count": null,
   "id": "ba1d2dc6",
   "metadata": {
    "deletable": false,
    "nbgrader": {
     "cell_type": "code",
     "checksum": "80a43164615c272f9b4fa0f3a4127f19",
     "grade": false,
     "grade_id": "cell-9c26e2d30dccf9a3",
     "locked": false,
     "schema_version": 3,
     "solution": true,
     "task": false
    }
   },
   "outputs": [],
   "source": [
    "joinedGdf = 999 # your answer here\n",
    "\n"
   ]
  },
  {
   "cell_type": "code",
   "execution_count": null,
   "id": "9440cba7",
   "metadata": {
    "deletable": false,
    "editable": false,
    "nbgrader": {
     "cell_type": "code",
     "checksum": "3d9a9f50a047a8d9cf893c6655879323",
     "grade": true,
     "grade_id": "cell-97e95ed64aa5aeed",
     "locked": true,
     "points": 1,
     "schema_version": 3,
     "solution": false,
     "task": false
    }
   },
   "outputs": [],
   "source": [
    "# Autograding tests - do not edit\n",
    "\n",
    "print(len(joinedGdf))\n",
    "print(snap_counts.sum(), joinedGdf.n_snap.sum(), joinedGdf.n_snap.count())\n",
    "assert len(joinedGdf) == len(esGdf)\n",
    "assert snap_counts.sum() == joinedGdf.n_snap.sum()\n",
    "assert joinedGdf.n_snap.count() == len(joinedGdf)"
   ]
  },
  {
   "cell_type": "markdown",
   "id": "dafc156a",
   "metadata": {
    "deletable": false,
    "editable": false,
    "nbgrader": {
     "cell_type": "markdown",
     "checksum": "c28ccf951f3f19d5b04358dd732afcba",
     "grade": false,
     "grade_id": "cell-2072e2bd2aef1387",
     "locked": true,
     "schema_version": 3,
     "solution": false,
     "task": false
    }
   },
   "source": [
    "Now plot a map of the `n_outlets_other` column. Use the examples from class. At a minimum, your map should have:\n",
    "* a basemap (e.g. from contextily)\n",
    "* a legend or colorbar\n",
    "* a title\n",
    "\n",
    "If you can figure it out, you might want to drop Catalina Island to focus on mainland LA County. (Hint: the `ax.set_ylim()` function is useful here.)"
   ]
  },
  {
   "cell_type": "code",
   "execution_count": null,
   "id": "e9f18161",
   "metadata": {
    "deletable": false,
    "nbgrader": {
     "cell_type": "code",
     "checksum": "0d467fd901ba95dd04323cb363a7e82e",
     "grade": true,
     "grade_id": "cell-a94ea91d437aa315",
     "locked": false,
     "points": 3,
     "schema_version": 3,
     "solution": true,
     "task": false
    }
   },
   "outputs": [],
   "source": [
    "# your code here\n",
    "import contextily as ctx\n",
    "import matplotlib.pyplot as plt\n",
    "\n",
    "\n",
    "\n"
   ]
  },
  {
   "cell_type": "markdown",
   "id": "1d2480c3",
   "metadata": {
    "deletable": false,
    "editable": false,
    "nbgrader": {
     "cell_type": "markdown",
     "checksum": "e9398997d45c5fa9a6b9948783ed44f3",
     "grade": false,
     "grade_id": "cell-758f0b04ca485f4c",
     "locked": true,
     "schema_version": 3,
     "solution": false,
     "task": false
    }
   },
   "source": [
    "Reflect on this assignment. What did you find most challenging? What problems did you encounter? How might you have gone about it differently the next time? (Write a few bullet points in a markdown cell.)\n",
    "\n",
    "To help me calibrate future assignments, please also indicate about how long it took you to complete."
   ]
  },
  {
   "cell_type": "markdown",
   "id": "ed42e4bf",
   "metadata": {
    "deletable": false,
    "nbgrader": {
     "cell_type": "markdown",
     "checksum": "9b3c7c8f2a5225b43808cfa53a387076",
     "grade": true,
     "grade_id": "cell-67e0d81b930b7be7",
     "locked": false,
     "points": 0,
     "schema_version": 3,
     "solution": true,
     "task": false
    }
   },
   "source": [
    "YOUR ANSWER HERE"
   ]
  },
  {
   "cell_type": "markdown",
   "id": "33dcc1c4",
   "metadata": {
    "deletable": false,
    "editable": false,
    "nbgrader": {
     "cell_type": "markdown",
     "checksum": "b4c767b8d3c05d85fdac6f4e2b0e0ff5",
     "grade": false,
     "grade_id": "cell-e66877e145e6c79b",
     "locked": true,
     "schema_version": 3,
     "solution": false,
     "task": false
    }
   },
   "source": [
    "# Challenge Problem\n",
    "Remember, you need to do at least two of these challenge problems this quarter.\n",
    "\n",
    "We mapped the number of grocery stores, but didn't say anything directly about food deserts. In the challenge, take this analysis further. My suggestion:\n",
    "* Normalize your number of outlets (e.g. by population) and plot these data\n",
    "* Plot the normalized number of outlets (both gas/liquor and other) against race, income, and other variables from EnviroScreen\n",
    "* Think about boundary issues created by the artefacts of census geography. Create a measure of the number of outlets within (say) 2km of a census tract boundary, even if they do not intersect that tract\n",
    "* Briefly write a few sentences that intepret your results\n",
    "\n",
    "If you want to go further, please do!\n",
    "\n",
    "\n",
    "\n",
    "\n",
    "\n",
    "\n",
    "\n"
   ]
  },
  {
   "cell_type": "code",
   "execution_count": null,
   "id": "a9f5568f",
   "metadata": {},
   "outputs": [],
   "source": []
  }
 ],
 "metadata": {
  "kernelspec": {
   "display_name": "Python 3 (ipykernel)",
   "language": "python",
   "name": "python3"
  },
  "language_info": {
   "codemirror_mode": {
    "name": "ipython",
    "version": 3
   },
   "file_extension": ".py",
   "mimetype": "text/x-python",
   "name": "python",
   "nbconvert_exporter": "python",
   "pygments_lexer": "ipython3",
   "version": "3.8.13"
  }
 },
 "nbformat": 4,
 "nbformat_minor": 5
}
